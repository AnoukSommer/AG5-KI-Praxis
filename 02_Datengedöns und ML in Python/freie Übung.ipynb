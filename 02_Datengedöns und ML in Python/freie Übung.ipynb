{
 "cells": [
  {
   "cell_type": "markdown",
   "id": "95db4bcc",
   "metadata": {},
   "source": [
    "# Weitere Datensätze zum Üben"
   ]
  },
  {
   "cell_type": "code",
   "execution_count": null,
   "id": "52b91422",
   "metadata": {},
   "outputs": [],
   "source": [
    "import pandas as pd\n",
    "import numpy as np\n",
    "import seaborn as sns \n",
    "import matplotlib.pyplot as plt \n",
    "%matplotlib inline "
   ]
  },
  {
   "cell_type": "markdown",
   "id": "26e9ecfd",
   "metadata": {},
   "source": [
    "Der MPG Datensatz enthält Informationen über den Benzinverbrauch von 38 beliebten Automodellen der Jahre 1999 und 2008. Es bietet sich an erst eine Analyse der Daten durchzuführen und dann den Benzinverbrauch vorherzusagen. \n",
    "\n",
    "Typische Fragen:\n",
    "- Welche Datentypen haben die einzelnen Spalten?\n",
    "- Wie viele Zeilen und Spalten hat der Datensatz?\n",
    "- Wie heißen die Spalten? \n",
    "- Welche Autohersteller sind repräsentiert? Wie oft? (Balkendiagram)\n",
    "- Was ist die durchschnittlich gefahrene Kilometerzahl?\n",
    "- Wie sieht der durchschnittliche Benzinverbrauch der Autoklassen aus?"
   ]
  },
  {
   "cell_type": "code",
   "execution_count": null,
   "id": "b33fd64e",
   "metadata": {},
   "outputs": [],
   "source": [
    "df_mpg = sns.load_dataset(name=\"mpg\")\n",
    "df_mpg.head()"
   ]
  },
  {
   "cell_type": "markdown",
   "id": "6a7a7dca",
   "metadata": {},
   "source": [
    "Der Penguin Datensatz ist analog zum Iris Datensatz zu betrachten. Könnt ihr die Spezies mit den vorhandenen Daten vorhersagen? \n",
    "\n",
    " <b>Achtung:</b> Datenaufbereitung notwendig!"
   ]
  },
  {
   "cell_type": "code",
   "execution_count": null,
   "id": "3757b952",
   "metadata": {},
   "outputs": [],
   "source": [
    "df_penguins = sns.load_dataset(name=\"penguins\")\n",
    "df_penguins.head()"
   ]
  },
  {
   "cell_type": "code",
   "execution_count": null,
   "id": "9702e58a",
   "metadata": {},
   "outputs": [],
   "source": []
  }
 ],
 "metadata": {
  "kernelspec": {
   "display_name": "Python 3 (ipykernel)",
   "language": "python",
   "name": "python3"
  },
  "language_info": {
   "codemirror_mode": {
    "name": "ipython",
    "version": 3
   },
   "file_extension": ".py",
   "mimetype": "text/x-python",
   "name": "python",
   "nbconvert_exporter": "python",
   "pygments_lexer": "ipython3",
   "version": "3.9.7"
  }
 },
 "nbformat": 4,
 "nbformat_minor": 5
}
