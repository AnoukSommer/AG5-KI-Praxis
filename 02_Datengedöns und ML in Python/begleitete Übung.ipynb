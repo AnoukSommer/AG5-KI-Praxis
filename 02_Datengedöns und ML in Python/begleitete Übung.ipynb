{
 "cells": [
  {
   "cell_type": "markdown",
   "metadata": {
    "toc-hr-collapsed": true
   },
   "source": [
    "# Hands On"
   ]
  },
  {
   "cell_type": "markdown",
   "metadata": {},
   "source": [
    "## Erläuterung zur Übung\n",
    "\n",
    "Über jeder Zelle finden ist eine **Aufgabe** zu finden, in der eine kurze Aufgabe für die darunter liegende Zelle beschrieben ist. \n",
    "\n",
    "In manchen Fällen sind einige Zeilen Code bereits vorgeschrieben, sodass lediglich Anpassungen vorgenommen werden müssen.\n",
    "\n",
    "Sollten Sie nicht weiter kommen, gibt es zwei Möglichkeiten: \n",
    "- (falls vorhanden) führen Sie die Zelle `%load Aufgabe_1_1_Tipp.py` für eine Hilfestellung aus \n",
    "- führen Sie die Zelle `%load Aufgabe_1_1_Loesung.py` für die Lösung der Teilaufgabe aus \n",
    "\n",
    "Um zu verhindern, dass die Zeilen aus Versehen ausgeführt werden, sind diese als `Raw` Zellen markiert. Für die Ausführung muss die Zellenart auf `Code` umgestellt werden. Die Zellenart kann im Dropdown Menü unter den Reitern der für die verschiedenen Notebook Tabs geändert werden."
   ]
  },
  {
   "cell_type": "markdown",
   "metadata": {},
   "source": [
    "## Imports "
   ]
  },
  {
   "cell_type": "code",
   "execution_count": null,
   "metadata": {},
   "outputs": [],
   "source": [
    "import numpy as np\n",
    "import pandas as pd\n",
    "import seaborn as sns\n",
    "import matplotlib.pyplot as plt\n",
    "\n",
    "from sklearn.model_selection import train_test_split\n",
    "from sklearn.preprocessing import MinMaxScaler\n",
    "\n",
    "from sklearn.neighbors import KNeighborsClassifier\n",
    "from sklearn.svm import SVC\n",
    "from sklearn.ensemble import RandomForestClassifier\n",
    "from sklearn.naive_bayes import GaussianNB\n",
    "\n",
    "%matplotlib inline "
   ]
  },
  {
   "cell_type": "markdown",
   "metadata": {},
   "source": [
    "## Problemdefinition"
   ]
  },
  {
   "cell_type": "markdown",
   "metadata": {},
   "source": [
    "Für die Hands-On Übung wird der [Iris Datensatz](https://en.wikipedia.org/wiki/Iris_flower_data_set) verwendet. \n",
    "\n",
    "Dieser enthält Informationen über verschiedene Schwertlilienarten und wurde erstmals 1938 in dem Paper [The Use of Multiple Measurements in Taxonomic Problems](http://www.comp.tmu.ac.jp/morbier/R/Fisher-1936-Ann._Eugen.pdf) veröffentlicht. Der Datensaty ist ein beliebt für Visualisierungen und zum Testen von Klassifikations- und Klusterungsalgorithmen. "
   ]
  },
  {
   "cell_type": "markdown",
   "metadata": {},
   "source": [
    "## Laden des Datensatzes\n",
    "\n",
    "Genauso wie bei dem Titanic Beispiel, ist der Datensatz ebenfalls in den Python Bibliotheken `sklearn` und `seaborn` bereits vorhanden. "
   ]
  },
  {
   "cell_type": "code",
   "execution_count": null,
   "metadata": {},
   "outputs": [],
   "source": [
    "df_iris = sns.load_dataset(\"iris\")\n",
    "df_iris.head()"
   ]
  },
  {
   "cell_type": "markdown",
   "metadata": {},
   "source": [
    "Der Datensatz enthält folgende Informationen in den Spalten: \n",
    "\n",
    "<table>\n",
    "<tbody>\n",
    "<tr><th><b>Variable</b></th><th><b>Erklärung</b></tr>\n",
    "<tr>\n",
    "<td>sepal_length</td>\n",
    "<td>Länge des Kelchblatts in cm</td>\n",
    "</tr>\n",
    "<tr>\n",
    "<td>sepal_width</td>\n",
    "<td>Breite des Kelchblatts in cm</td>\n",
    "</tr>\n",
    "<td>petal_length</td>\n",
    "<td>Länge des Blüttenblatts in cm</td>\n",
    "<td></td>\n",
    "</tr>\n",
    "<tr>\n",
    "<td>petal_width</td>\n",
    "<td>Breite des Blüttenblatts in cm</td>\n",
    "<td></td>\n",
    "</tr>\n",
    "<tr>\n",
    "<td>species</td>\n",
    "<td>Name der Blumenart</td>\n",
    "<td></td>\n",
    "</tr>\n",
    "</tbody>\n",
    "</table>"
   ]
  },
  {
   "cell_type": "markdown",
   "metadata": {},
   "source": [
    "![alt text](bilder/iris_2.png)\n",
    "\n",
    "[Quelle](http://suruchifialoke.com/img/ML/iris.png)"
   ]
  },
  {
   "cell_type": "markdown",
   "metadata": {},
   "source": [
    "## 1. Explorative Analyse"
   ]
  },
  {
   "cell_type": "markdown",
   "metadata": {},
   "source": [
    "_**Aufgabe 1.1**_: Lassen sie sich die ersten 10 Zeilen des DataFrames `df_iris` anzeigen. "
   ]
  },
  {
   "cell_type": "code",
   "execution_count": null,
   "metadata": {},
   "outputs": [],
   "source": [
    "# Aufgabe 1.1\n"
   ]
  },
  {
   "cell_type": "markdown",
   "metadata": {},
   "source": [
    "_**Aufgabe 1.2**_: Wie viele verschiedene Pflanzen sind in dem Datensatz enthalten? "
   ]
  },
  {
   "cell_type": "code",
   "execution_count": null,
   "metadata": {},
   "outputs": [],
   "source": [
    "# Aufgabe 1.2\n"
   ]
  },
  {
   "cell_type": "raw",
   "metadata": {},
   "source": [
    "%load solutions/Aufgabe_1_2_Loesung.py"
   ]
  },
  {
   "cell_type": "markdown",
   "metadata": {},
   "source": [
    "_**Aufgabe 1.3**_: Lassen sie sich die statistischen Parameter der numerischen Spalten ausgeben. Gibt es Ausreißer in den Daten, die für das Machine Learning entfernt aus den Daten entfernt werden müssen?"
   ]
  },
  {
   "cell_type": "code",
   "execution_count": null,
   "metadata": {
    "scrolled": true
   },
   "outputs": [],
   "source": [
    "# Aufgabe 1.3\n"
   ]
  },
  {
   "cell_type": "raw",
   "metadata": {},
   "source": [
    "%load solutions/Aufgabe_1_3_Loesung.py"
   ]
  },
  {
   "cell_type": "markdown",
   "metadata": {},
   "source": [
    "_**Aufgabe 1.4**_: \n",
    "Wie viele unterschiedliche Anzahl an Spezien befinden sich in dem Datensatz? \n",
    "Ist der Datensatz ausgeglichen (d.h. enthält er etwa gleich viele Datenpunkte aller Klassen)\n",
    "\n",
    "*Tipp* : Durch Ausführen der Funktion `df[\"Spaltenname\"].value_counts()` kann man die Anzahl an einmaligen Werten einer Spalte von kategorischen Werten anzeigen lassen."
   ]
  },
  {
   "cell_type": "code",
   "execution_count": null,
   "metadata": {},
   "outputs": [],
   "source": [
    "# Aufgabe 1.4\n"
   ]
  },
  {
   "cell_type": "raw",
   "metadata": {},
   "source": [
    "%load solutions/Aufgabe_1_4_Loesung.py"
   ]
  },
  {
   "cell_type": "markdown",
   "metadata": {},
   "source": [
    "_**Aufgabe 1.5**_: Die Python Bibliothek `seaborn` bietet eine Möglichkeit mit wenig Code Zeilen komplexe Plots zu erstellen. \n",
    "\n",
    "Die Funktion `sns.pairplot(df)` listet paarweise Plots von numerischen Features bzw. deren Verteilungsfunktion auf. \n",
    "\n",
    "a) Führen Sie die Funktion `sns.pairplot(df_iris, hue=\"species\")` aus für eine Visualisierung des Datensatzes aus.\n",
    "\n",
    "b) Stellen Sie auf Grundlage der Informationen der Plots eine Vermutung auf, welche Blumenart sich einfacher von den anderen unterscheiden lässt."
   ]
  },
  {
   "cell_type": "code",
   "execution_count": null,
   "metadata": {},
   "outputs": [],
   "source": [
    "# Aufgabe 1.5\n"
   ]
  },
  {
   "cell_type": "raw",
   "metadata": {},
   "source": [
    "%load solutions/Aufgabe_1_5_Loesung.py"
   ]
  },
  {
   "cell_type": "markdown",
   "metadata": {},
   "source": [
    "## 2. Vorbereitung des Datensatzes für das Machine Learning"
   ]
  },
  {
   "cell_type": "markdown",
   "metadata": {},
   "source": [
    "_**Aufgabe 2.1**_: Müssen aus dem Datensatz aufgrund von fehlenden Werten (`NaN` Werten) Zeilen oder Spalten entfernt werden? "
   ]
  },
  {
   "cell_type": "code",
   "execution_count": null,
   "metadata": {},
   "outputs": [],
   "source": [
    "# Aufgabe 2.1\n"
   ]
  },
  {
   "cell_type": "raw",
   "metadata": {},
   "source": [
    "%load solutions/Aufgabe_2_1_Loesung.py"
   ]
  },
  {
   "cell_type": "markdown",
   "metadata": {},
   "source": [
    "_**Aufgabe 2.2**_: \n",
    "Überlegen Sie sich, welche Spalten die Features und welche Spalten die Label sind. \n",
    "\n",
    "Teilen Sie anschließend den Datensatz in ein Feature DataFrame `X` und eine Label Series `y` auf. "
   ]
  },
  {
   "cell_type": "code",
   "execution_count": null,
   "metadata": {},
   "outputs": [],
   "source": [
    "# Aufgabe 2.2\n"
   ]
  },
  {
   "cell_type": "raw",
   "metadata": {},
   "source": [
    "%load solutions/Aufgabe_2_2_Loesung.py"
   ]
  },
  {
   "cell_type": "markdown",
   "metadata": {},
   "source": [
    "_**Aufgabe 2.3**_: \n",
    "Teilen Sie die das Feature DataFrame `X` und die Label Series `y` in ein Trainings- und Testdatensatz auf. \n",
    "\n",
    "Nutzen Sie 75% der Daten zum Trainineren und 25% der Daten zum Testen."
   ]
  },
  {
   "cell_type": "code",
   "execution_count": null,
   "metadata": {},
   "outputs": [],
   "source": [
    "# Aufgabe 2.3\n"
   ]
  },
  {
   "cell_type": "raw",
   "metadata": {},
   "source": [
    "%load solutions/Aufgabe_2_3_Loesung.py"
   ]
  },
  {
   "cell_type": "markdown",
   "metadata": {},
   "source": [
    "_**Aufgabe 2.4**_: \n",
    "Skalieren Sie den Trainings- und Testdatensatz mit einem `MinMaxScaler`.  "
   ]
  },
  {
   "cell_type": "code",
   "execution_count": null,
   "metadata": {},
   "outputs": [],
   "source": [
    "# Aufgabe 2.4\n"
   ]
  },
  {
   "cell_type": "raw",
   "metadata": {},
   "source": [
    "%load solutions/Aufgabe_2_4_Loesung.py"
   ]
  },
  {
   "cell_type": "markdown",
   "metadata": {},
   "source": [
    "## 3. Machine Learning "
   ]
  },
  {
   "cell_type": "markdown",
   "metadata": {},
   "source": [
    "_**Aufgabe 3.1**_: \n",
    "Instanziieren Sie eine oder mehrere Klassifizierer aus der sklearn Bibliothek."
   ]
  },
  {
   "cell_type": "code",
   "execution_count": null,
   "metadata": {},
   "outputs": [],
   "source": [
    "#Aufgabe 3.1\n"
   ]
  },
  {
   "cell_type": "raw",
   "metadata": {},
   "source": [
    "%load solutions/Aufgabe_3_1_Loesung.py"
   ]
  },
  {
   "cell_type": "markdown",
   "metadata": {},
   "source": [
    "_**Aufgabe 3.2**_: \n",
    "Trainieren/ fitten Sie den ausgewählten Klassifizierer für den Trainingsdatensatz"
   ]
  },
  {
   "cell_type": "code",
   "execution_count": null,
   "metadata": {},
   "outputs": [],
   "source": [
    "# Aufgabe 3.2 \n"
   ]
  },
  {
   "cell_type": "raw",
   "metadata": {},
   "source": [
    "%load solutions/Aufgabe_3_2_Loesung.py"
   ]
  },
  {
   "cell_type": "markdown",
   "metadata": {},
   "source": [
    "_**Aufgabe 3.3**_: Nutzen Sie den trainierten Klassifizierer, um die Pflanzenart des Testdatensatzes vorherzusagen."
   ]
  },
  {
   "cell_type": "code",
   "execution_count": null,
   "metadata": {},
   "outputs": [],
   "source": [
    "# Aufgabe 3.3\n"
   ]
  },
  {
   "cell_type": "raw",
   "metadata": {},
   "source": [
    "%load solutions/Aufgabe_3_3_Loesung.py"
   ]
  },
  {
   "cell_type": "markdown",
   "metadata": {},
   "source": [
    "_**Aufgabe 3.4**_: Bewerten Sie die Güte des Algorithmus, indem Sie die Genauigkeit des Modells für den Testdatensatz bestimmen. \n",
    "\n",
    "Welche Genauigkeit ist bei einem Klassifizierer zu erwarten, der zufällig eine Auswahl der Blumenart trifft? "
   ]
  },
  {
   "cell_type": "code",
   "execution_count": null,
   "metadata": {},
   "outputs": [],
   "source": [
    "# Aufgabe 3.4\n"
   ]
  },
  {
   "cell_type": "raw",
   "metadata": {},
   "source": [
    "%load solutions/Aufgabe_3_4_Loesung.py"
   ]
  },
  {
   "cell_type": "markdown",
   "metadata": {},
   "source": [
    "_**Aufgabe 3.5**_: Bewerten Sie die Güte des Algorithmus, indem Sie die Genauigkeit des Modells für den Testdatensatz bestimmen. \n",
    "\n",
    "Welche Genauigkeit ist bei einem Klassifizierer zu erwarten, der zufällig eine Auswahl der Blumenart trifft? "
   ]
  },
  {
   "cell_type": "code",
   "execution_count": null,
   "metadata": {},
   "outputs": [],
   "source": [
    "# Aufgabe 3.5\n"
   ]
  },
  {
   "cell_type": "raw",
   "metadata": {},
   "source": [
    "%load solutions/Aufgabe_3_5_Loesung.py"
   ]
  },
  {
   "cell_type": "markdown",
   "metadata": {},
   "source": [
    "_**Aufgabe 3.6**_: In folgenden Zelle ist die ganze Machine Learning Pipeline aufgeführt. Probieren welche Auswirkungen das Weglassen von Features, verschiedene Train-Test Splits, unterschiedliche Algorithmen auf das Ergebnis haben. "
   ]
  },
  {
   "cell_type": "code",
   "execution_count": null,
   "metadata": {},
   "outputs": [],
   "source": [
    "# Aufgabe 3.6\n",
    "X = df_iris[[\n",
    "    \"petal_length\",\n",
    "    \"petal_width\", \n",
    "    \"sepal_length\", \n",
    "    \"sepal_width\"\n",
    "]]\n",
    "y = df_iris[\"species\"]\n",
    "\n",
    "X_train, X_test, y_train, y_test = train_test_split(X, y, train_size=0.75, random_state=0)\n",
    "\n",
    "scaler = MinMaxScaler()\n",
    "scaler = scaler.fit(X_train)\n",
    "X_train = scaler.transform(X_train)\n",
    "X_test = scaler.transform(X_test)\n",
    "\n",
    "#clf = KNeighborsClassifier()\n",
    "#clf = SVC()\n",
    "#clf = GaussianNB()\n",
    "clf = RandomForestClassifier(n_estimators=100)\n",
    "\n",
    "clf.fit(X_train, y_train).score(X_test, y_test)"
   ]
  }
 ],
 "metadata": {
  "kernelspec": {
   "display_name": "Python 3 (ipykernel)",
   "language": "python",
   "name": "python3"
  },
  "language_info": {
   "codemirror_mode": {
    "name": "ipython",
    "version": 3
   },
   "file_extension": ".py",
   "mimetype": "text/x-python",
   "name": "python",
   "nbconvert_exporter": "python",
   "pygments_lexer": "ipython3",
   "version": "3.9.7"
  }
 },
 "nbformat": 4,
 "nbformat_minor": 4
}
