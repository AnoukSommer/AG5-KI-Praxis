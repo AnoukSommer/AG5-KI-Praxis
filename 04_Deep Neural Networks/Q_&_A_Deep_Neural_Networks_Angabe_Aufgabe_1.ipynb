{
  "nbformat": 4,
  "nbformat_minor": 0,
  "metadata": {
    "colab": {
      "name": "Q & A Deep Neural Networks - Angabe Aufgabe 1",
      "provenance": []
    },
    "kernelspec": {
      "name": "python3",
      "display_name": "Python 3"
    },
    "language_info": {
      "name": "python"
    },
    "accelerator": "GPU",
    "gpuClass": "standard"
  },
  "cells": [
    {
      "cell_type": "markdown",
      "source": [
        "# 1. Functional und Subclassing API"
      ],
      "metadata": {
        "id": "OZ39Lo_CVbzR"
      }
    },
    {
      "cell_type": "code",
      "source": [
        "import tensorflow as tf\n",
        "from tensorflow import keras\n",
        "from tensorflow.keras import layers\n",
        "import matplotlib.pyplot as plt\n",
        "import numpy as np"
      ],
      "metadata": {
        "id": "Ixf6vOBqVo8C"
      },
      "execution_count": null,
      "outputs": []
    },
    {
      "cell_type": "code",
      "source": [
        "(x_train, y_train), (x_test, y_test) = keras.datasets.mnist.load_data() # Die besten Modelle auf diesem Datensatz haben ca. 99% Genauigkeit ohne Overfit"
      ],
      "metadata": {
        "id": "3KASdO_OV5SM",
        "colab": {
          "base_uri": "https://localhost:8080/"
        },
        "outputId": "2212cfeb-91ad-460a-9fba-b1319e4d5434"
      },
      "execution_count": null,
      "outputs": [
        {
          "output_type": "stream",
          "name": "stdout",
          "text": [
            "Downloading data from https://storage.googleapis.com/tensorflow/tf-keras-datasets/mnist.npz\n",
            "11493376/11490434 [==============================] - 0s 0us/step\n",
            "11501568/11490434 [==============================] - 0s 0us/step\n"
          ]
        }
      ]
    },
    {
      "cell_type": "code",
      "source": [
        "y_train = keras.utils.to_categorical(y_train)\n",
        "y_test = keras.utils.to_categorical(y_test)"
      ],
      "metadata": {
        "id": "MY_5OeV9Wtq5"
      },
      "execution_count": null,
      "outputs": []
    },
    {
      "cell_type": "code",
      "source": [
        "print('X_train: ' + str(x_train.shape))\n",
        "print('Y_train: ' + str(y_train.shape))\n",
        "print('X_test:  '  + str(x_test.shape))\n",
        "print('Y_test:  '  + str(y_test.shape))"
      ],
      "metadata": {
        "colab": {
          "base_uri": "https://localhost:8080/"
        },
        "id": "OTpZaxhQWG_z",
        "outputId": "bb321bd9-191f-41db-ae38-2b2290855c8d"
      },
      "execution_count": null,
      "outputs": [
        {
          "output_type": "stream",
          "name": "stdout",
          "text": [
            "X_train: (60000, 28, 28)\n",
            "Y_train: (60000, 10)\n",
            "X_test:  (10000, 28, 28)\n",
            "Y_test:  (10000, 10)\n"
          ]
        }
      ]
    },
    {
      "cell_type": "code",
      "source": [
        "fig = plt.figure()\n",
        "\n",
        "for i in range(10):\n",
        "    for j in range(y_train.shape[0]):\n",
        "      if y_train[j][i] == 1:\n",
        "        ax = fig.add_subplot(2, 5, i+1)\n",
        "        ax.imshow(x_train[j], cmap='gray_r')\n",
        "        break"
      ],
      "metadata": {
        "colab": {
          "base_uri": "https://localhost:8080/",
          "height": 227
        },
        "id": "y8XA8XqQWNDw",
        "outputId": "8806dca9-49bf-4e8d-f1c4-61c8863dd35a"
      },
      "execution_count": null,
      "outputs": [
        {
          "output_type": "display_data",
          "data": {
            "text/plain": [
              "<Figure size 432x288 with 10 Axes>"
            ],
            "image/png": "[encoded data removed]"
          },
          "metadata": {
            "needs_background": "light"
          }
        }
      ]
    },
    {
      "cell_type": "code",
      "source": [
        "x_train = x_train / np.max(x_train)\n",
        "x_test = x_test / np.max(x_train)"
      ],
      "metadata": {
        "id": "PJVijwRivC2M"
      },
      "execution_count": null,
      "outputs": []
    },
    {
      "cell_type": "markdown",
      "source": [
        "Normales Sequential Netz:"
      ],
      "metadata": {
        "id": "kAt99QziVgbL"
      }
    },
    {
      "cell_type": "code",
      "execution_count": null,
      "metadata": {
        "colab": {
          "base_uri": "https://localhost:8080/"
        },
        "id": "YyBS-AsvVYQX",
        "outputId": "a92eec45-dba0-475b-ad6a-7136da17cfec"
      },
      "outputs": [
        {
          "output_type": "stream",
          "name": "stdout",
          "text": [
            "Model: \"sequential\"\n",
            "_________________________________________________________________\n",
            " Layer (type)                Output Shape              Param #   \n",
            "=================================================================\n",
            " flatten (Flatten)           (None, 784)               0         \n",
            "                                                                 \n",
            " dense (Dense)               (None, 256)               200960    \n",
            "                                                                 \n",
            " dropout (Dropout)           (None, 256)               0         \n",
            "                                                                 \n",
            " dense_1 (Dense)             (None, 256)               65792     \n",
            "                                                                 \n",
            " dropout_1 (Dropout)         (None, 256)               0         \n",
            "                                                                 \n",
            " dense_2 (Dense)             (None, 128)               32896     \n",
            "                                                                 \n",
            " dropout_2 (Dropout)         (None, 128)               0         \n",
            "                                                                 \n",
            " dense_3 (Dense)             (None, 64)                8256      \n",
            "                                                                 \n",
            " dropout_3 (Dropout)         (None, 64)                0         \n",
            "                                                                 \n",
            " dense_4 (Dense)             (None, 64)                4160      \n",
            "                                                                 \n",
            " dropout_4 (Dropout)         (None, 64)                0         \n",
            "                                                                 \n",
            " dense_5 (Dense)             (None, 32)                2080      \n",
            "                                                                 \n",
            " dropout_5 (Dropout)         (None, 32)                0         \n",
            "                                                                 \n",
            " dense_6 (Dense)             (None, 16)                528       \n",
            "                                                                 \n",
            " dropout_6 (Dropout)         (None, 16)                0         \n",
            "                                                                 \n",
            " dense_7 (Dense)             (None, 16)                272       \n",
            "                                                                 \n",
            " dropout_7 (Dropout)         (None, 16)                0         \n",
            "                                                                 \n",
            " dense_8 (Dense)             (None, 10)                170       \n",
            "                                                                 \n",
            "=================================================================\n",
            "Total params: 315,114\n",
            "Trainable params: 315,114\n",
            "Non-trainable params: 0\n",
            "_________________________________________________________________\n"
          ]
        }
      ],
      "source": [
        "seq_model = keras.Sequential()\n",
        "seq_model.add(layers.Input(shape=(28, 28)))\n",
        "seq_model.add(layers.Flatten())\n",
        "seq_model.add(layers.Dense(256, activation='relu', kernel_initializer=keras.initializers.GlorotUniform(123)))\n",
        "seq_model.add(layers.Dropout(0.2))\n",
        "seq_model.add(layers.Dense(256, activation='relu', kernel_initializer=keras.initializers.GlorotUniform(123)))\n",
        "seq_model.add(layers.Dropout(0.2))\n",
        "seq_model.add(layers.Dense(128, activation='relu', kernel_initializer=keras.initializers.GlorotUniform(124)))\n",
        "seq_model.add(layers.Dropout(0.2))\n",
        "seq_model.add(layers.Dense(64, activation='relu', kernel_initializer=keras.initializers.GlorotUniform(125)))\n",
        "seq_model.add(layers.Dropout(0.2))\n",
        "seq_model.add(layers.Dense(64, activation='relu', kernel_initializer=keras.initializers.GlorotUniform(126)))\n",
        "seq_model.add(layers.Dropout(0.2))\n",
        "seq_model.add(layers.Dense(32, activation='relu', kernel_initializer=keras.initializers.GlorotUniform(127)))\n",
        "seq_model.add(layers.Dropout(0.2))\n",
        "seq_model.add(layers.Dense(16, activation='relu', kernel_initializer=keras.initializers.GlorotUniform(128)))\n",
        "seq_model.add(layers.Dropout(0.2))\n",
        "seq_model.add(layers.Dense(16, activation='relu', kernel_initializer=keras.initializers.GlorotUniform(129)))\n",
        "seq_model.add(layers.Dropout(0.2))\n",
        "seq_model.add(layers.Dense(10, activation='softmax', kernel_initializer=keras.initializers.GlorotUniform(130)))\n",
        "\n",
        "seq_model.summary()"
      ]
    },
    {
      "cell_type": "code",
      "source": [
        "seq_model.compile(optimizer='adam', loss=keras.losses.CategoricalCrossentropy(), metrics=['accuracy'])\n",
        "seq_model.fit(x_train, y_train, validation_split=0.1, epochs=20, batch_size=64)\n",
        "\n",
        "seq_model.evaluate(x_test, y_test, batch_size=64)"
      ],
      "metadata": {
        "colab": {
          "base_uri": "https://localhost:8080/"
        },
        "id": "fZbX7nLLaIzj",
        "outputId": "070a1839-4cf0-42a5-a638-c999c2e33108"
      },
      "execution_count": null,
      "outputs": [
        {
          "output_type": "stream",
          "name": "stdout",
          "text": [
            "Epoch 1/20\n",
            "844/844 [==============================] - 6s 4ms/step - loss: 1.0835 - accuracy: 0.6211 - val_loss: 0.2804 - val_accuracy: 0.9417\n",
            "Epoch 2/20\n",
            "844/844 [==============================] - 3s 4ms/step - loss: 0.4999 - accuracy: 0.8678 - val_loss: 0.1924 - val_accuracy: 0.9605\n",
            "Epoch 3/20\n",
            "844/844 [==============================] - 3s 4ms/step - loss: 0.3939 - accuracy: 0.9031 - val_loss: 0.1911 - val_accuracy: 0.9533\n",
            "Epoch 4/20\n",
            "844/844 [==============================] - 3s 4ms/step - loss: 0.3286 - accuracy: 0.9205 - val_loss: 0.1536 - val_accuracy: 0.9658\n",
            "Epoch 5/20\n",
            "844/844 [==============================] - 3s 4ms/step - loss: 0.2903 - accuracy: 0.9292 - val_loss: 0.1351 - val_accuracy: 0.9688\n",
            "Epoch 6/20\n",
            "844/844 [==============================] - 3s 4ms/step - loss: 0.2643 - accuracy: 0.9367 - val_loss: 0.1414 - val_accuracy: 0.9713\n",
            "Epoch 7/20\n",
            "844/844 [==============================] - 3s 4ms/step - loss: 0.2489 - accuracy: 0.9396 - val_loss: 0.1497 - val_accuracy: 0.9700\n",
            "Epoch 8/20\n",
            "844/844 [==============================] - 3s 4ms/step - loss: 0.2203 - accuracy: 0.9464 - val_loss: 0.1279 - val_accuracy: 0.9748\n",
            "Epoch 9/20\n",
            "844/844 [==============================] - 3s 4ms/step - loss: 0.2116 - accuracy: 0.9497 - val_loss: 0.1200 - val_accuracy: 0.9750\n",
            "Epoch 10/20\n",
            "844/844 [==============================] - 4s 4ms/step - loss: 0.1944 - accuracy: 0.9526 - val_loss: 0.1054 - val_accuracy: 0.9777\n",
            "Epoch 11/20\n",
            "844/844 [==============================] - 4s 4ms/step - loss: 0.1905 - accuracy: 0.9539 - val_loss: 0.1024 - val_accuracy: 0.9778\n",
            "Epoch 12/20\n",
            "844/844 [==============================] - 4s 5ms/step - loss: 0.1786 - accuracy: 0.9572 - val_loss: 0.1227 - val_accuracy: 0.9723\n",
            "Epoch 13/20\n",
            "844/844 [==============================] - 3s 4ms/step - loss: 0.1764 - accuracy: 0.9579 - val_loss: 0.1117 - val_accuracy: 0.9772\n",
            "Epoch 14/20\n",
            "844/844 [==============================] - 4s 5ms/step - loss: 0.1687 - accuracy: 0.9594 - val_loss: 0.1277 - val_accuracy: 0.9747\n",
            "Epoch 15/20\n",
            "844/844 [==============================] - 4s 4ms/step - loss: 0.1613 - accuracy: 0.9613 - val_loss: 0.1274 - val_accuracy: 0.9753\n",
            "Epoch 16/20\n",
            "844/844 [==============================] - 3s 4ms/step - loss: 0.1648 - accuracy: 0.9613 - val_loss: 0.1185 - val_accuracy: 0.9748\n",
            "Epoch 17/20\n",
            "844/844 [==============================] - 3s 4ms/step - loss: 0.1442 - accuracy: 0.9651 - val_loss: 0.1418 - val_accuracy: 0.9787\n",
            "Epoch 18/20\n",
            "844/844 [==============================] - 3s 4ms/step - loss: 0.1465 - accuracy: 0.9659 - val_loss: 0.1178 - val_accuracy: 0.9788\n",
            "Epoch 19/20\n",
            "844/844 [==============================] - 3s 4ms/step - loss: 0.1479 - accuracy: 0.9652 - val_loss: 0.1019 - val_accuracy: 0.9810\n",
            "Epoch 20/20\n",
            "844/844 [==============================] - 3s 4ms/step - loss: 0.1314 - accuracy: 0.9685 - val_loss: 0.1203 - val_accuracy: 0.9787\n",
            "157/157 [==============================] - 0s 2ms/step - loss: 46.0038 - accuracy: 0.8794\n"
          ]
        },
        {
          "output_type": "execute_result",
          "data": {
            "text/plain": [
              "[46.00381088256836, 0.8794000148773193]"
            ]
          },
          "metadata": {},
          "execution_count": 9
        }
      ]
    },
    {
      "cell_type": "markdown",
      "source": [
        "Jetzt das gleiche mit der Functional API"
      ],
      "metadata": {
        "id": "FcHZ5gercR84"
      }
    },
    {
      "cell_type": "code",
      "source": [
        "def get_model(input_shape):\n",
        "  inputs = layers.Input(shape=input_shape)\n",
        "  x = layers.Flatten()(inputs)\n",
        "  x = layers.Dense(256, activation='relu', kernel_initializer=keras.initializers.GlorotUniform(123))(x)\n",
        "  x = layers.Dropout(0.2)(x)\n",
        "  x = layers.Dense(256, activation='relu', kernel_initializer=keras.initializers.GlorotUniform(124))(x)\n",
        "  x = layers.Dropout(0.2)(x)\n",
        "  x = layers.Dense(128, activation='relu', kernel_initializer=keras.initializers.GlorotUniform(125))(x)\n",
        "  x = layers.Dropout(0.2)(x)\n",
        "  x = layers.Dense(64, activation='relu', kernel_initializer=keras.initializers.GlorotUniform(126))(x)\n",
        "  x = layers.Dropout(0.2)(x)\n",
        "  x = layers.Dense(64, activation='relu', kernel_initializer=keras.initializers.GlorotUniform(127))(x)\n",
        "  x = layers.Dropout(0.2)(x)\n",
        "  x = layers.Dense(32, activation='relu', kernel_initializer=keras.initializers.GlorotUniform(128))(x)\n",
        "  x = layers.Dropout(0.2)(x)\n",
        "  x = layers.Dense(16, activation='relu', kernel_initializer=keras.initializers.GlorotUniform(139))(x)\n",
        "  x = layers.Dropout(0.2)(x)\n",
        "  x = layers.Dense(16, activation='relu', kernel_initializer=keras.initializers.GlorotUniform(130))(x)\n",
        "  x = layers.Dropout(0.2)(x)\n",
        "  outputs = layers.Dense(10, activation='softmax', kernel_initializer=keras.initializers.GlorotUniform(131))(x)\n",
        "\n",
        "  return keras.Model(inputs, outputs)\n",
        "\n",
        "func_model = get_model((28,28))\n",
        "func_model.summary()"
      ],
      "metadata": {
        "colab": {
          "base_uri": "https://localhost:8080/"
        },
        "id": "zcyglSpiaoAm",
        "outputId": "1b103f19-eab9-48c6-f1bd-1864972419c6"
      },
      "execution_count": null,
      "outputs": [
        {
          "output_type": "stream",
          "name": "stdout",
          "text": [
            "Model: \"model\"\n",
            "_________________________________________________________________\n",
            " Layer (type)                Output Shape              Param #   \n",
            "=================================================================\n",
            " input_2 (InputLayer)        [(None, 28, 28)]          0         \n",
            "                                                                 \n",
            " flatten_1 (Flatten)         (None, 784)               0         \n",
            "                                                                 \n",
            " dense_9 (Dense)             (None, 256)               200960    \n",
            "                                                                 \n",
            " dropout_8 (Dropout)         (None, 256)               0         \n",
            "                                                                 \n",
            " dense_10 (Dense)            (None, 256)               65792     \n",
            "                                                                 \n",
            " dropout_9 (Dropout)         (None, 256)               0         \n",
            "                                                                 \n",
            " dense_11 (Dense)            (None, 128)               32896     \n",
            "                                                                 \n",
            " dropout_10 (Dropout)        (None, 128)               0         \n",
            "                                                                 \n",
            " dense_12 (Dense)            (None, 64)                8256      \n",
            "                                                                 \n",
            " dropout_11 (Dropout)        (None, 64)                0         \n",
            "                                                                 \n",
            " dense_13 (Dense)            (None, 64)                4160      \n",
            "                                                                 \n",
            " dropout_12 (Dropout)        (None, 64)                0         \n",
            "                                                                 \n",
            " dense_14 (Dense)            (None, 32)                2080      \n",
            "                                                                 \n",
            " dropout_13 (Dropout)        (None, 32)                0         \n",
            "                                                                 \n",
            " dense_15 (Dense)            (None, 16)                528       \n",
            "                                                                 \n",
            " dropout_14 (Dropout)        (None, 16)                0         \n",
            "                                                                 \n",
            " dense_16 (Dense)            (None, 16)                272       \n",
            "                                                                 \n",
            " dropout_15 (Dropout)        (None, 16)                0         \n",
            "                                                                 \n",
            " dense_17 (Dense)            (None, 10)                170       \n",
            "                                                                 \n",
            "=================================================================\n",
            "Total params: 315,114\n",
            "Trainable params: 315,114\n",
            "Non-trainable params: 0\n",
            "_________________________________________________________________\n"
          ]
        }
      ]
    },
    {
      "cell_type": "code",
      "source": [
        "func_model.compile(optimizer='adam', loss=keras.losses.CategoricalCrossentropy(), metrics=['accuracy'])\n",
        "func_model.fit(x_train, y_train, validation_split=0.1, epochs=20, batch_size=64)\n",
        "\n",
        "func_model.evaluate(x_test, y_test, batch_size=64)"
      ],
      "metadata": {
        "colab": {
          "base_uri": "https://localhost:8080/"
        },
        "id": "V9s0zCdZeBPQ",
        "outputId": "a070e941-a963-4afd-94dd-4f6714ba7bec"
      },
      "execution_count": null,
      "outputs": [
        {
          "output_type": "stream",
          "name": "stdout",
          "text": [
            "Epoch 1/20\n",
            "844/844 [==============================] - 4s 4ms/step - loss: 1.1877 - accuracy: 0.5644 - val_loss: 0.4048 - val_accuracy: 0.8715\n",
            "Epoch 2/20\n",
            "844/844 [==============================] - 4s 4ms/step - loss: 0.5677 - accuracy: 0.8419 - val_loss: 0.1834 - val_accuracy: 0.9618\n",
            "Epoch 3/20\n",
            "844/844 [==============================] - 3s 4ms/step - loss: 0.3963 - accuracy: 0.8959 - val_loss: 0.1473 - val_accuracy: 0.9667\n",
            "Epoch 4/20\n",
            "844/844 [==============================] - 3s 4ms/step - loss: 0.3313 - accuracy: 0.9146 - val_loss: 0.1211 - val_accuracy: 0.9733\n",
            "Epoch 5/20\n",
            "844/844 [==============================] - 3s 4ms/step - loss: 0.2884 - accuracy: 0.9270 - val_loss: 0.1417 - val_accuracy: 0.9717\n",
            "Epoch 6/20\n",
            "844/844 [==============================] - 3s 4ms/step - loss: 0.2696 - accuracy: 0.9329 - val_loss: 0.1281 - val_accuracy: 0.9727\n",
            "Epoch 7/20\n",
            "844/844 [==============================] - 3s 4ms/step - loss: 0.2476 - accuracy: 0.9367 - val_loss: 0.1076 - val_accuracy: 0.9763\n",
            "Epoch 8/20\n",
            "844/844 [==============================] - 3s 4ms/step - loss: 0.2310 - accuracy: 0.9433 - val_loss: 0.1237 - val_accuracy: 0.9747\n",
            "Epoch 9/20\n",
            "844/844 [==============================] - 3s 4ms/step - loss: 0.2172 - accuracy: 0.9465 - val_loss: 0.1154 - val_accuracy: 0.9738\n",
            "Epoch 10/20\n",
            "844/844 [==============================] - 3s 4ms/step - loss: 0.2161 - accuracy: 0.9481 - val_loss: 0.1094 - val_accuracy: 0.9745\n",
            "Epoch 11/20\n",
            "844/844 [==============================] - 3s 4ms/step - loss: 0.1979 - accuracy: 0.9509 - val_loss: 0.0890 - val_accuracy: 0.9785\n",
            "Epoch 12/20\n",
            "844/844 [==============================] - 3s 4ms/step - loss: 0.1840 - accuracy: 0.9541 - val_loss: 0.1069 - val_accuracy: 0.9777\n",
            "Epoch 13/20\n",
            "844/844 [==============================] - 3s 4ms/step - loss: 0.1832 - accuracy: 0.9559 - val_loss: 0.1038 - val_accuracy: 0.9777\n",
            "Epoch 14/20\n",
            "844/844 [==============================] - 3s 4ms/step - loss: 0.1670 - accuracy: 0.9590 - val_loss: 0.1256 - val_accuracy: 0.9743\n",
            "Epoch 15/20\n",
            "844/844 [==============================] - 3s 4ms/step - loss: 0.1696 - accuracy: 0.9577 - val_loss: 0.1039 - val_accuracy: 0.9805\n",
            "Epoch 16/20\n",
            "844/844 [==============================] - 3s 4ms/step - loss: 0.1612 - accuracy: 0.9611 - val_loss: 0.1138 - val_accuracy: 0.9792\n",
            "Epoch 17/20\n",
            "844/844 [==============================] - 3s 4ms/step - loss: 0.1559 - accuracy: 0.9621 - val_loss: 0.1381 - val_accuracy: 0.9753\n",
            "Epoch 18/20\n",
            "844/844 [==============================] - 3s 4ms/step - loss: 0.1478 - accuracy: 0.9641 - val_loss: 0.1045 - val_accuracy: 0.9822\n",
            "Epoch 19/20\n",
            "844/844 [==============================] - 3s 4ms/step - loss: 0.1480 - accuracy: 0.9634 - val_loss: 0.1340 - val_accuracy: 0.9760\n",
            "Epoch 20/20\n",
            "844/844 [==============================] - 3s 4ms/step - loss: 0.1349 - accuracy: 0.9675 - val_loss: 0.1193 - val_accuracy: 0.9800\n",
            "157/157 [==============================] - 0s 2ms/step - loss: 27.7000 - accuracy: 0.9724\n"
          ]
        },
        {
          "output_type": "execute_result",
          "data": {
            "text/plain": [
              "[27.699974060058594, 0.9724000096321106]"
            ]
          },
          "metadata": {},
          "execution_count": 11
        }
      ]
    },
    {
      "cell_type": "markdown",
      "source": [
        "Mit der Functional API können wir dann coole Dinge machen wie zum Beispiel \"Rechnungen\" in das Modell einbauen:"
      ],
      "metadata": {
        "id": "RyMG2X40eYQv"
      }
    },
    {
      "cell_type": "code",
      "source": [
        "def get_ensemble_model(input_shape):\n",
        "  input = layers.Input(shape=input_shape)\n",
        "  x = layers.Flatten()(input)\n",
        "\n",
        "  # Teil Model 1\n",
        "  x1 = layers.Dense(128, activation='relu')(x)\n",
        "  x1 = layers.Dropout(0.2)(x1)\n",
        "  x1 = layers.Dense(128, activation='relu')(x1)\n",
        "  x1 = layers.Dropout(0.2)(x1)\n",
        "  x1 = layers.Dense(32, activation='relu')(x1)\n",
        "\n",
        "  # Teil Model 2\n",
        "  x2 = layers.Dense(128, activation='relu')(x)\n",
        "  x2 = layers.Dropout(0.2)(x2)\n",
        "  x2 = layers.Dense(64, activation='relu')(x2)\n",
        "  x2 = layers.Dropout(0.2)(x2)\n",
        "  x2 = layers.Dense(32, activation='relu')(x2)\n",
        "\n",
        "  # Teil Model 3\n",
        "  x3 = layers.Dense(128, activation='relu')(x)\n",
        "  x3 = layers.Dropout(0.2)(x3)\n",
        "  x3 = layers.Dense(32, activation='relu')(x3)\n",
        "  x3 = layers.Dropout(0.2)(x3)\n",
        "  x3 = layers.Dense(32, activation='relu')(x3)\n",
        "\n",
        "  # Teil Model 4\n",
        "  x4 = layers.Dense(128, activation='relu')(x)\n",
        "  x4 = layers.Dropout(0.2)(x4)\n",
        "  x4 = layers.Dense(16, activation='relu')(x4)\n",
        "  x4 = layers.Dropout(0.2)(x4)\n",
        "  x4 = layers.Dense(32, activation='relu')(x4)\n",
        "\n",
        "  # Kombinierenn\n",
        "  x_combined = layers.Average()([x1, x2, x3, x4])\n",
        "\n",
        "  x = layers.Dense(16, activation='relu')(x_combined)\n",
        "  outputs = layers.Dense(10, activation='softmax')(x)\n",
        "\n",
        "  return keras.Model(input, outputs)\n",
        "\n",
        "ens_model = get_ensemble_model((28, 28))\n",
        "keras.utils.plot_model(ens_model, 'my_ensemble_model.png')"
      ],
      "metadata": {
        "colab": {
          "base_uri": "https://localhost:8080/",
          "height": 953
        },
        "id": "gBt7ZmdqeQm8",
        "outputId": "9077f7f9-7daa-4fdd-d953-1d8f2fe91436"
      },
      "execution_count": null,
      "outputs": [
        {
          "output_type": "execute_result",
          "data": {
            "text/plain": [
              "<IPython.core.display.Image object>"
            ],
            "image/png": "[encoded data removed]"
          },
          "metadata": {},
          "execution_count": 12
        }
      ]
    },
    {
      "cell_type": "code",
      "source": [
        "ens_model.compile(optimizer='adam', loss=keras.losses.CategoricalCrossentropy(), metrics=['accuracy'])\n",
        "ens_model.fit(x_train, y_train, validation_split=0.1, epochs=20, batch_size=64)\n",
        "\n",
        "ens_model.evaluate(x_test, y_test, batch_size=64)"
      ],
      "metadata": {
        "colab": {
          "base_uri": "https://localhost:8080/"
        },
        "id": "aF5_3RU-gAmU",
        "outputId": "4d2b45dd-a876-4846-faf5-23a128937f0d"
      },
      "execution_count": null,
      "outputs": [
        {
          "output_type": "stream",
          "name": "stdout",
          "text": [
            "Epoch 1/20\n",
            "844/844 [==============================] - 5s 5ms/step - loss: 0.3918 - accuracy: 0.8797 - val_loss: 0.1242 - val_accuracy: 0.9643\n",
            "Epoch 2/20\n",
            "844/844 [==============================] - 3s 4ms/step - loss: 0.1520 - accuracy: 0.9547 - val_loss: 0.0892 - val_accuracy: 0.9747\n",
            "Epoch 3/20\n",
            "844/844 [==============================] - 3s 4ms/step - loss: 0.1074 - accuracy: 0.9678 - val_loss: 0.0955 - val_accuracy: 0.9720\n",
            "Epoch 4/20\n",
            "844/844 [==============================] - 3s 4ms/step - loss: 0.0839 - accuracy: 0.9737 - val_loss: 0.0694 - val_accuracy: 0.9802\n",
            "Epoch 5/20\n",
            "844/844 [==============================] - 4s 5ms/step - loss: 0.0705 - accuracy: 0.9771 - val_loss: 0.0743 - val_accuracy: 0.9777\n",
            "Epoch 6/20\n",
            "844/844 [==============================] - 3s 4ms/step - loss: 0.0592 - accuracy: 0.9808 - val_loss: 0.0731 - val_accuracy: 0.9788\n",
            "Epoch 7/20\n",
            "844/844 [==============================] - 4s 4ms/step - loss: 0.0487 - accuracy: 0.9841 - val_loss: 0.0682 - val_accuracy: 0.9803\n",
            "Epoch 8/20\n",
            "844/844 [==============================] - 4s 4ms/step - loss: 0.0459 - accuracy: 0.9860 - val_loss: 0.0663 - val_accuracy: 0.9820\n",
            "Epoch 9/20\n",
            "844/844 [==============================] - 6s 7ms/step - loss: 0.0402 - accuracy: 0.9870 - val_loss: 0.0686 - val_accuracy: 0.9823\n",
            "Epoch 10/20\n",
            "844/844 [==============================] - 3s 4ms/step - loss: 0.0361 - accuracy: 0.9882 - val_loss: 0.0640 - val_accuracy: 0.9832\n",
            "Epoch 11/20\n",
            "844/844 [==============================] - 4s 4ms/step - loss: 0.0340 - accuracy: 0.9885 - val_loss: 0.0788 - val_accuracy: 0.9783\n",
            "Epoch 12/20\n",
            "844/844 [==============================] - 3s 4ms/step - loss: 0.0329 - accuracy: 0.9892 - val_loss: 0.0675 - val_accuracy: 0.9822\n",
            "Epoch 13/20\n",
            "844/844 [==============================] - 4s 4ms/step - loss: 0.0296 - accuracy: 0.9904 - val_loss: 0.0683 - val_accuracy: 0.9838\n",
            "Epoch 14/20\n",
            "844/844 [==============================] - 4s 4ms/step - loss: 0.0261 - accuracy: 0.9911 - val_loss: 0.0750 - val_accuracy: 0.9830\n",
            "Epoch 15/20\n",
            "844/844 [==============================] - 3s 4ms/step - loss: 0.0250 - accuracy: 0.9920 - val_loss: 0.0676 - val_accuracy: 0.9845\n",
            "Epoch 16/20\n",
            "844/844 [==============================] - 4s 4ms/step - loss: 0.0245 - accuracy: 0.9916 - val_loss: 0.0733 - val_accuracy: 0.9817\n",
            "Epoch 17/20\n",
            "844/844 [==============================] - 4s 4ms/step - loss: 0.0235 - accuracy: 0.9918 - val_loss: 0.0770 - val_accuracy: 0.9830\n",
            "Epoch 18/20\n",
            "844/844 [==============================] - 3s 4ms/step - loss: 0.0223 - accuracy: 0.9926 - val_loss: 0.0725 - val_accuracy: 0.9822\n",
            "Epoch 19/20\n",
            "844/844 [==============================] - 4s 4ms/step - loss: 0.0221 - accuracy: 0.9926 - val_loss: 0.0648 - val_accuracy: 0.9843\n",
            "Epoch 20/20\n",
            "844/844 [==============================] - 4s 4ms/step - loss: 0.0209 - accuracy: 0.9929 - val_loss: 0.0705 - val_accuracy: 0.9852\n",
            "157/157 [==============================] - 0s 3ms/step - loss: 18.3063 - accuracy: 0.9818\n"
          ]
        },
        {
          "output_type": "execute_result",
          "data": {
            "text/plain": [
              "[18.30634307861328, 0.9818000197410583]"
            ]
          },
          "metadata": {},
          "execution_count": 13
        }
      ]
    },
    {
      "cell_type": "markdown",
      "source": [
        "Mit Hilfe von Subclassing kann man das jetzt noch übersichtlicher machen:"
      ],
      "metadata": {
        "id": "Um3wivpuhOT0"
      }
    },
    {
      "cell_type": "code",
      "source": [
        "class DenseBox(layers.Layer):\n",
        "\n",
        "  def __init__(self, mid_units):\n",
        "    super(DenseBox, self).__init__()\n",
        "    self.internal_model = keras.Sequential([\n",
        "                     layers.Dense(128, activation='relu'),\n",
        "                     layers.Dropout(0.2),\n",
        "                     layers.Dense(mid_units, activation='relu'),\n",
        "                     layers.Dropout(0.2),\n",
        "                     layers.Dense(32, activation='relu'),\n",
        "                     layers.Dropout(0.2)            \n",
        "    ])\n",
        "\n",
        "  def call(self, inputs):\n",
        "    return self.internal_model(inputs)\n",
        "\n",
        "def get_subclassed_model(input_shape):\n",
        "  input = layers.Input(shape=input_shape)\n",
        "  x = layers.Flatten()(input)\n",
        "\n",
        "  x1 = DenseBox(128)(x)\n",
        "  x2 = DenseBox(64)(x)\n",
        "  x3 = DenseBox(32)(x)\n",
        "  x4 = DenseBox(16)(x)\n",
        "\n",
        "  x = layers.Average()([x1, x2, x3, x4])\n",
        "\n",
        "  x = layers.Dense(16, activation='relu')(x)\n",
        "  outputs = layers.Dense(10, activation='softmax')(x)\n",
        "\n",
        "  return keras.Model(input, outputs)\n",
        "\n",
        "subclassed_model = get_subclassed_model((28, 28))\n",
        "keras.utils.plot_model(subclassed_model, 'my_subclassed_model.png')"
      ],
      "metadata": {
        "colab": {
          "base_uri": "https://localhost:8080/",
          "height": 564
        },
        "id": "Eqve7BcXghKZ",
        "outputId": "0e05b6a5-2358-4b96-c72c-2dcaf4420a61"
      },
      "execution_count": null,
      "outputs": [
        {
          "output_type": "execute_result",
          "data": {
            "text/plain": [
              "<IPython.core.display.Image object>"
            ],
            "image/png": "[encoded data removed]"
          },
          "metadata": {},
          "execution_count": 14
        }
      ]
    },
    {
      "cell_type": "code",
      "source": [
        "subclassed_model.compile(optimizer='adam', loss=keras.losses.CategoricalCrossentropy(), metrics=['accuracy'])\n",
        "subclassed_model.fit(x_train, y_train, validation_split=0.1, epochs=20, batch_size=64)\n",
        "\n",
        "subclassed_model.evaluate(x_test, y_test, batch_size=64)"
      ],
      "metadata": {
        "colab": {
          "base_uri": "https://localhost:8080/"
        },
        "id": "9bgJZpzIi24m",
        "outputId": "e8125190-e714-44e2-c593-b74d714d2415"
      },
      "execution_count": null,
      "outputs": [
        {
          "output_type": "stream",
          "name": "stdout",
          "text": [
            "Epoch 1/20\n",
            "844/844 [==============================] - 5s 5ms/step - loss: 0.4815 - accuracy: 0.8530 - val_loss: 0.1238 - val_accuracy: 0.9635\n",
            "Epoch 2/20\n",
            "844/844 [==============================] - 4s 4ms/step - loss: 0.1639 - accuracy: 0.9523 - val_loss: 0.0897 - val_accuracy: 0.9723\n",
            "Epoch 3/20\n",
            "844/844 [==============================] - 4s 4ms/step - loss: 0.1188 - accuracy: 0.9646 - val_loss: 0.0821 - val_accuracy: 0.9748\n",
            "Epoch 4/20\n",
            "844/844 [==============================] - 4s 4ms/step - loss: 0.0943 - accuracy: 0.9720 - val_loss: 0.0703 - val_accuracy: 0.9782\n",
            "Epoch 5/20\n",
            "844/844 [==============================] - 4s 5ms/step - loss: 0.0788 - accuracy: 0.9752 - val_loss: 0.0684 - val_accuracy: 0.9798\n",
            "Epoch 6/20\n",
            "844/844 [==============================] - 4s 4ms/step - loss: 0.0675 - accuracy: 0.9794 - val_loss: 0.0650 - val_accuracy: 0.9798\n",
            "Epoch 7/20\n",
            "844/844 [==============================] - 4s 5ms/step - loss: 0.0595 - accuracy: 0.9809 - val_loss: 0.0645 - val_accuracy: 0.9803\n",
            "Epoch 8/20\n",
            "844/844 [==============================] - 4s 5ms/step - loss: 0.0541 - accuracy: 0.9828 - val_loss: 0.0628 - val_accuracy: 0.9805\n",
            "Epoch 9/20\n",
            "844/844 [==============================] - 4s 4ms/step - loss: 0.0474 - accuracy: 0.9854 - val_loss: 0.0674 - val_accuracy: 0.9792\n",
            "Epoch 10/20\n",
            "844/844 [==============================] - 4s 4ms/step - loss: 0.0413 - accuracy: 0.9871 - val_loss: 0.0754 - val_accuracy: 0.9817\n",
            "Epoch 11/20\n",
            "844/844 [==============================] - 4s 5ms/step - loss: 0.0415 - accuracy: 0.9866 - val_loss: 0.0699 - val_accuracy: 0.9818\n",
            "Epoch 12/20\n",
            "844/844 [==============================] - 4s 4ms/step - loss: 0.0387 - accuracy: 0.9875 - val_loss: 0.0699 - val_accuracy: 0.9800\n",
            "Epoch 13/20\n",
            "844/844 [==============================] - 4s 4ms/step - loss: 0.0345 - accuracy: 0.9888 - val_loss: 0.0694 - val_accuracy: 0.9822\n",
            "Epoch 14/20\n",
            "844/844 [==============================] - 4s 4ms/step - loss: 0.0338 - accuracy: 0.9892 - val_loss: 0.0619 - val_accuracy: 0.9833\n",
            "Epoch 15/20\n",
            "844/844 [==============================] - 4s 4ms/step - loss: 0.0315 - accuracy: 0.9899 - val_loss: 0.0750 - val_accuracy: 0.9813\n",
            "Epoch 16/20\n",
            "844/844 [==============================] - 4s 4ms/step - loss: 0.0295 - accuracy: 0.9905 - val_loss: 0.0684 - val_accuracy: 0.9838\n",
            "Epoch 17/20\n",
            "844/844 [==============================] - 4s 4ms/step - loss: 0.0261 - accuracy: 0.9913 - val_loss: 0.0715 - val_accuracy: 0.9827\n",
            "Epoch 18/20\n",
            "844/844 [==============================] - 4s 4ms/step - loss: 0.0258 - accuracy: 0.9914 - val_loss: 0.0784 - val_accuracy: 0.9808\n",
            "Epoch 19/20\n",
            "844/844 [==============================] - 4s 4ms/step - loss: 0.0246 - accuracy: 0.9918 - val_loss: 0.0724 - val_accuracy: 0.9820\n",
            "Epoch 20/20\n",
            "844/844 [==============================] - 4s 4ms/step - loss: 0.0266 - accuracy: 0.9911 - val_loss: 0.0686 - val_accuracy: 0.9833\n",
            "157/157 [==============================] - 0s 3ms/step - loss: 16.5849 - accuracy: 0.9811\n"
          ]
        },
        {
          "output_type": "execute_result",
          "data": {
            "text/plain": [
              "[16.584922790527344, 0.9811000227928162]"
            ]
          },
          "metadata": {},
          "execution_count": 15
        }
      ]
    },
    {
      "cell_type": "markdown",
      "source": [
        "# 2. ResNets"
      ],
      "metadata": {
        "id": "ut6tEphajVCf"
      }
    },
    {
      "cell_type": "markdown",
      "source": [
        "Mehr Layer sind nicht immer besser. Es besteht das Problem der Vanishing oder Exploding Gradients, die im schlimmsten Fall sogar dazu führen, dass ein Netz mit mehr layern eine niedrigere Genauigkeit hat als eines mit mehr layern. Das Problem dabei ist erwiesenermaßen NICHT overfitting.\n",
        "\n",
        "Lösung: Wir bieten dem Netz eine Option an Ebenen zu ignorieren, wenn es diese nicht braucht. Dann muss der Gradient an Ebenen \"vorbei fließen\" können.\n",
        "\n",
        "=> Skip Connections / Identity Mapping"
      ],
      "metadata": {
        "id": "wX8CDr1zjW51"
      }
    },
    {
      "cell_type": "markdown",
      "source": [
        "Very Deep Network without Skip Connections:"
      ],
      "metadata": {
        "id": "yKq3GHoKkiTA"
      }
    },
    {
      "cell_type": "code",
      "source": [
        "# Cifar10?\n",
        "(x_train, y_train), (x_test, y_test) = keras.datasets.cifar10.load_data() # Dieser Datensatz ist eigentlich zu komplex für ein Fully-Connected Feed-Forward Netz, Baseline: 85% accuracy mit ConvNet"
      ],
      "metadata": {
        "id": "gjaqimg-09Nj"
      },
      "execution_count": null,
      "outputs": []
    },
    {
      "cell_type": "code",
      "source": [
        "x_train = x_train/255\n",
        "x_test = x_test/255\n",
        "\n",
        "y_train = keras.utils.to_categorical(y_train)\n",
        "y_test = keras.utils.to_categorical(y_test)"
      ],
      "metadata": {
        "id": "u5B3YBXy1BI0"
      },
      "execution_count": null,
      "outputs": []
    },
    {
      "cell_type": "code",
      "source": [
        "x_train.shape"
      ],
      "metadata": {
        "colab": {
          "base_uri": "https://localhost:8080/"
        },
        "id": "ky9_h4tj1mWt",
        "outputId": "741ff89b-26af-4b26-ac8a-cc81958aaa71"
      },
      "execution_count": null,
      "outputs": [
        {
          "output_type": "execute_result",
          "data": {
            "text/plain": [
              "(50000, 32, 32, 3)"
            ]
          },
          "metadata": {},
          "execution_count": 9
        }
      ]
    },
    {
      "cell_type": "code",
      "source": [
        "y_train.shape"
      ],
      "metadata": {
        "colab": {
          "base_uri": "https://localhost:8080/"
        },
        "id": "dkASzkm711Ha",
        "outputId": "6ecc796b-db04-402c-98f7-b2c24352b19a"
      },
      "execution_count": null,
      "outputs": [
        {
          "output_type": "execute_result",
          "data": {
            "text/plain": [
              "(50000, 10)"
            ]
          },
          "metadata": {},
          "execution_count": 10
        }
      ]
    },
    {
      "cell_type": "code",
      "source": [
        "deep_model = keras.Sequential()\n",
        "n_units = 300\n",
        "n_layers = 12\n",
        "\n",
        "deep_model.add(layers.Input(shape=(32, 32, 3)))\n",
        "deep_model.add(layers.Flatten())\n",
        "\n",
        "for i in range(n_layers):\n",
        "  deep_model.add(layers.Dense(n_units, activation='relu'))\n",
        "  deep_model.add(layers.Dropout(0.3))\n",
        "\n",
        "deep_model.add(layers.Dense(100, activation='relu'))\n",
        "deep_model.add(layers.Dense(10, activation='softmax'))\n",
        "\n",
        "deep_model.compile(optimizer='adam', loss=keras.losses.CategoricalCrossentropy(), metrics=['accuracy'])\n",
        "deep_hist = deep_model.fit(x_train, y_train, batch_size=64, epochs=50, validation_split=0.1)\n",
        "\n",
        "deep_model.evaluate(x_test, y_test)"
      ],
      "metadata": {
        "colab": {
          "base_uri": "https://localhost:8080/"
        },
        "id": "psIrBjGxi7t0",
        "outputId": "82169cb2-a23a-4069-909d-101211e25e31"
      },
      "execution_count": null,
      "outputs": [
        {
          "output_type": "stream",
          "name": "stdout",
          "text": [
            "Epoch 1/50\n",
            "704/704 [==============================] - 6s 6ms/step - loss: 2.1733 - accuracy: 0.1587 - val_loss: 2.0925 - val_accuracy: 0.1926\n",
            "Epoch 2/50\n",
            "704/704 [==============================] - 4s 6ms/step - loss: 2.1053 - accuracy: 0.1774 - val_loss: 2.1267 - val_accuracy: 0.1806\n",
            "Epoch 3/50\n",
            "704/704 [==============================] - 4s 6ms/step - loss: 2.1162 - accuracy: 0.1731 - val_loss: 2.1518 - val_accuracy: 0.1776\n",
            "Epoch 4/50\n",
            "704/704 [==============================] - 4s 6ms/step - loss: 2.1291 - accuracy: 0.1702 - val_loss: 2.1161 - val_accuracy: 0.1846\n",
            "Epoch 5/50\n",
            "704/704 [==============================] - 4s 6ms/step - loss: 2.0974 - accuracy: 0.1833 - val_loss: 2.1812 - val_accuracy: 0.1506\n",
            "Epoch 6/50\n",
            "704/704 [==============================] - 4s 6ms/step - loss: 2.1040 - accuracy: 0.1805 - val_loss: 2.0878 - val_accuracy: 0.1882\n",
            "Epoch 7/50\n",
            "704/704 [==============================] - 4s 6ms/step - loss: 2.1477 - accuracy: 0.1618 - val_loss: 2.1193 - val_accuracy: 0.1658\n",
            "Epoch 8/50\n",
            "704/704 [==============================] - 4s 6ms/step - loss: 2.1350 - accuracy: 0.1707 - val_loss: 2.1618 - val_accuracy: 0.1558\n",
            "Epoch 9/50\n",
            "704/704 [==============================] - 4s 6ms/step - loss: 2.1109 - accuracy: 0.1794 - val_loss: 2.0840 - val_accuracy: 0.1914\n",
            "Epoch 10/50\n",
            "704/704 [==============================] - 4s 6ms/step - loss: 2.0954 - accuracy: 0.1841 - val_loss: 2.0741 - val_accuracy: 0.1980\n",
            "Epoch 11/50\n",
            "704/704 [==============================] - 4s 6ms/step - loss: 2.0852 - accuracy: 0.1880 - val_loss: 2.1253 - val_accuracy: 0.1776\n",
            "Epoch 12/50\n",
            "704/704 [==============================] - 4s 6ms/step - loss: 2.0972 - accuracy: 0.1849 - val_loss: 2.1112 - val_accuracy: 0.1760\n",
            "Epoch 13/50\n",
            "704/704 [==============================] - 4s 6ms/step - loss: 2.1060 - accuracy: 0.1816 - val_loss: 2.1888 - val_accuracy: 0.1548\n",
            "Epoch 14/50\n",
            "704/704 [==============================] - 4s 6ms/step - loss: 2.0746 - accuracy: 0.1896 - val_loss: 2.1679 - val_accuracy: 0.1618\n",
            "Epoch 15/50\n",
            "704/704 [==============================] - 4s 6ms/step - loss: 2.0913 - accuracy: 0.1868 - val_loss: 2.1121 - val_accuracy: 0.1856\n",
            "Epoch 16/50\n",
            "704/704 [==============================] - 4s 6ms/step - loss: 2.0998 - accuracy: 0.1825 - val_loss: 2.1348 - val_accuracy: 0.1686\n",
            "Epoch 17/50\n",
            "704/704 [==============================] - 4s 6ms/step - loss: 2.0681 - accuracy: 0.1883 - val_loss: 2.1539 - val_accuracy: 0.1630\n",
            "Epoch 18/50\n",
            "704/704 [==============================] - 4s 6ms/step - loss: 2.0636 - accuracy: 0.1922 - val_loss: 2.1427 - val_accuracy: 0.1586\n",
            "Epoch 19/50\n",
            "704/704 [==============================] - 4s 6ms/step - loss: 2.0557 - accuracy: 0.1946 - val_loss: 2.1588 - val_accuracy: 0.1632\n",
            "Epoch 20/50\n",
            "704/704 [==============================] - 4s 6ms/step - loss: 2.0621 - accuracy: 0.1912 - val_loss: 2.1457 - val_accuracy: 0.1654\n",
            "Epoch 21/50\n",
            "704/704 [==============================] - 4s 6ms/step - loss: 2.0492 - accuracy: 0.1960 - val_loss: 2.0996 - val_accuracy: 0.1752\n",
            "Epoch 22/50\n",
            "704/704 [==============================] - 4s 6ms/step - loss: 2.0665 - accuracy: 0.1913 - val_loss: 2.1439 - val_accuracy: 0.1650\n",
            "Epoch 23/50\n",
            "704/704 [==============================] - 4s 6ms/step - loss: 2.1221 - accuracy: 0.1744 - val_loss: 2.1943 - val_accuracy: 0.1532\n",
            "Epoch 24/50\n",
            "704/704 [==============================] - 4s 6ms/step - loss: 2.0769 - accuracy: 0.1884 - val_loss: 2.1156 - val_accuracy: 0.1714\n",
            "Epoch 25/50\n",
            "704/704 [==============================] - 4s 6ms/step - loss: 2.0728 - accuracy: 0.1870 - val_loss: 2.1618 - val_accuracy: 0.1772\n",
            "Epoch 26/50\n",
            "704/704 [==============================] - 4s 6ms/step - loss: 2.0666 - accuracy: 0.1898 - val_loss: 2.1330 - val_accuracy: 0.1674\n",
            "Epoch 27/50\n",
            "704/704 [==============================] - 4s 6ms/step - loss: 2.0825 - accuracy: 0.1892 - val_loss: 2.1173 - val_accuracy: 0.1762\n",
            "Epoch 28/50\n",
            "704/704 [==============================] - 4s 6ms/step - loss: 2.0666 - accuracy: 0.1952 - val_loss: 2.1714 - val_accuracy: 0.1606\n",
            "Epoch 29/50\n",
            "704/704 [==============================] - 4s 6ms/step - loss: 2.0514 - accuracy: 0.1997 - val_loss: 2.1484 - val_accuracy: 0.1734\n",
            "Epoch 30/50\n",
            "704/704 [==============================] - 4s 6ms/step - loss: 2.0775 - accuracy: 0.1872 - val_loss: 2.1925 - val_accuracy: 0.1530\n",
            "Epoch 31/50\n",
            "704/704 [==============================] - 4s 6ms/step - loss: 2.0678 - accuracy: 0.1932 - val_loss: 2.2531 - val_accuracy: 0.1414\n",
            "Epoch 32/50\n",
            "704/704 [==============================] - 4s 6ms/step - loss: 2.0834 - accuracy: 0.1878 - val_loss: 2.1862 - val_accuracy: 0.1610\n",
            "Epoch 33/50\n",
            "704/704 [==============================] - 4s 6ms/step - loss: 2.0672 - accuracy: 0.1913 - val_loss: 2.1045 - val_accuracy: 0.1710\n",
            "Epoch 34/50\n",
            "704/704 [==============================] - 4s 6ms/step - loss: 2.0681 - accuracy: 0.1933 - val_loss: 2.2179 - val_accuracy: 0.1362\n",
            "Epoch 35/50\n",
            "704/704 [==============================] - 4s 6ms/step - loss: 2.0537 - accuracy: 0.1974 - val_loss: 2.1598 - val_accuracy: 0.1546\n",
            "Epoch 36/50\n",
            "704/704 [==============================] - 4s 6ms/step - loss: 2.0614 - accuracy: 0.1930 - val_loss: 2.1452 - val_accuracy: 0.1622\n",
            "Epoch 37/50\n",
            "704/704 [==============================] - 4s 6ms/step - loss: 2.0566 - accuracy: 0.1956 - val_loss: 2.1366 - val_accuracy: 0.1670\n",
            "Epoch 38/50\n",
            "704/704 [==============================] - 4s 6ms/step - loss: 2.0532 - accuracy: 0.1979 - val_loss: 2.1538 - val_accuracy: 0.1552\n",
            "Epoch 39/50\n",
            "704/704 [==============================] - 4s 6ms/step - loss: 2.0846 - accuracy: 0.1902 - val_loss: 2.1486 - val_accuracy: 0.1584\n",
            "Epoch 40/50\n",
            "704/704 [==============================] - 4s 6ms/step - loss: 2.0605 - accuracy: 0.1988 - val_loss: 2.1920 - val_accuracy: 0.1484\n",
            "Epoch 41/50\n",
            "704/704 [==============================] - 4s 6ms/step - loss: 2.0552 - accuracy: 0.2028 - val_loss: 2.1329 - val_accuracy: 0.1570\n",
            "Epoch 42/50\n",
            "704/704 [==============================] - 4s 6ms/step - loss: 2.0579 - accuracy: 0.2014 - val_loss: 2.1284 - val_accuracy: 0.1766\n",
            "Epoch 43/50\n",
            "704/704 [==============================] - 4s 6ms/step - loss: 2.0491 - accuracy: 0.2019 - val_loss: 2.2041 - val_accuracy: 0.1342\n",
            "Epoch 44/50\n",
            "704/704 [==============================] - 4s 6ms/step - loss: 2.0659 - accuracy: 0.1928 - val_loss: 2.2090 - val_accuracy: 0.1370\n",
            "Epoch 45/50\n",
            "704/704 [==============================] - 4s 6ms/step - loss: 2.0408 - accuracy: 0.2050 - val_loss: 2.0807 - val_accuracy: 0.1834\n",
            "Epoch 46/50\n",
            "704/704 [==============================] - 4s 6ms/step - loss: 2.0923 - accuracy: 0.1852 - val_loss: 2.1046 - val_accuracy: 0.1852\n",
            "Epoch 47/50\n",
            "704/704 [==============================] - 4s 6ms/step - loss: 2.0607 - accuracy: 0.1997 - val_loss: 2.1710 - val_accuracy: 0.1624\n",
            "Epoch 48/50\n",
            "704/704 [==============================] - 4s 6ms/step - loss: 2.0687 - accuracy: 0.1915 - val_loss: 2.2155 - val_accuracy: 0.1360\n",
            "Epoch 49/50\n",
            "704/704 [==============================] - 4s 6ms/step - loss: 2.0387 - accuracy: 0.2042 - val_loss: 2.2001 - val_accuracy: 0.1460\n",
            "Epoch 50/50\n",
            "704/704 [==============================] - 4s 6ms/step - loss: 2.0467 - accuracy: 0.2009 - val_loss: 2.0917 - val_accuracy: 0.1824\n",
            "313/313 [==============================] - 1s 4ms/step - loss: 2.0880 - accuracy: 0.1818\n"
          ]
        },
        {
          "output_type": "execute_result",
          "data": {
            "text/plain": [
              "[2.0879921913146973, 0.1817999929189682]"
            ]
          },
          "metadata": {},
          "execution_count": 28
        }
      ]
    },
    {
      "cell_type": "markdown",
      "source": [
        "Very Deep Network with Skip Connections:"
      ],
      "metadata": {
        "id": "0E-A8gYMo5h_"
      }
    },
    {
      "cell_type": "code",
      "source": [
        "class ResidualBlock(layers.Layer):\n",
        "  def __init__(self, input_shape):\n",
        "    super(ResidualBlock, self).__init__()\n",
        "\n",
        "    self.dense_1 = layers.Dense(input_shape, activation='relu')\n",
        "    self.dropout = layers.Dropout(0.3)\n",
        "    self.dense_2 = layers.Dense(input_shape, activation='relu')\n",
        "    self.add = layers.Add()\n",
        "\n",
        "  def call(self, inputs):\n",
        "    x = self.dense_1(inputs)\n",
        "    x = self.dropout(x)\n",
        "    x = self.dense_2(x)\n",
        "\n",
        "    combined = self.add([x, inputs])\n",
        "\n",
        "    return combined"
      ],
      "metadata": {
        "id": "d9Uwwz_MlYhb"
      },
      "execution_count": null,
      "outputs": []
    },
    {
      "cell_type": "code",
      "source": [
        "def get_res_model(input_shape):\n",
        "  inputs = layers.Input(shape=input_shape)\n",
        "  x = layers.Flatten()(inputs)\n",
        "\n",
        "  x = layers.Dense(n_units, activation='relu')(x)\n",
        "\n",
        "  for i in range(int(n_layers/2)):\n",
        "    x = ResidualBlock(n_units)(x)\n",
        "  \n",
        "  x = layers.Dense(100, activation='relu')(x)\n",
        "  outputs = layers.Dense(10, activation='softmax')(x)\n",
        "\n",
        "  return keras.Model(inputs, outputs)\n",
        "\n",
        "res_model = get_res_model((32, 32, 3))"
      ],
      "metadata": {
        "id": "jNE5_JClmwDD"
      },
      "execution_count": null,
      "outputs": []
    },
    {
      "cell_type": "code",
      "source": [
        "res_model.compile(optimizer='adam', loss=keras.losses.CategoricalCrossentropy(), metrics=['accuracy'])\n",
        "res_hist = res_model.fit(x_train, y_train, batch_size=64, epochs=50, validation_split=0.1)\n",
        "\n",
        "res_model.evaluate(x_test, y_test)"
      ],
      "metadata": {
        "colab": {
          "base_uri": "https://localhost:8080/"
        },
        "id": "ZPxDtLqtoSs-",
        "outputId": "7e41dc7c-4396-49c1-ee35-99b34c599b28"
      },
      "execution_count": null,
      "outputs": [
        {
          "output_type": "stream",
          "name": "stdout",
          "text": [
            "Epoch 1/50\n",
            "704/704 [==============================] - 6s 7ms/step - loss: 2.0424 - accuracy: 0.2213 - val_loss: 1.9452 - val_accuracy: 0.2478\n",
            "Epoch 2/50\n",
            "704/704 [==============================] - 4s 6ms/step - loss: 1.9488 - accuracy: 0.2522 - val_loss: 1.9353 - val_accuracy: 0.2494\n",
            "Epoch 3/50\n",
            "704/704 [==============================] - 4s 6ms/step - loss: 1.9338 - accuracy: 0.2568 - val_loss: 1.9497 - val_accuracy: 0.2484\n",
            "Epoch 4/50\n",
            "704/704 [==============================] - 4s 6ms/step - loss: 1.9242 - accuracy: 0.2621 - val_loss: 1.9259 - val_accuracy: 0.2594\n",
            "Epoch 5/50\n",
            "704/704 [==============================] - 4s 6ms/step - loss: 1.9155 - accuracy: 0.2620 - val_loss: 1.9166 - val_accuracy: 0.2672\n",
            "Epoch 6/50\n",
            "704/704 [==============================] - 4s 6ms/step - loss: 1.9145 - accuracy: 0.2653 - val_loss: 1.9598 - val_accuracy: 0.2408\n",
            "Epoch 7/50\n",
            "704/704 [==============================] - 4s 6ms/step - loss: 1.9119 - accuracy: 0.2673 - val_loss: 1.9333 - val_accuracy: 0.2488\n",
            "Epoch 8/50\n",
            "704/704 [==============================] - 4s 6ms/step - loss: 1.9083 - accuracy: 0.2659 - val_loss: 1.9330 - val_accuracy: 0.2550\n",
            "Epoch 9/50\n",
            "704/704 [==============================] - 4s 6ms/step - loss: 1.9055 - accuracy: 0.2710 - val_loss: 1.9230 - val_accuracy: 0.2584\n",
            "Epoch 10/50\n",
            "704/704 [==============================] - 4s 6ms/step - loss: 1.9048 - accuracy: 0.2735 - val_loss: 1.9119 - val_accuracy: 0.2694\n",
            "Epoch 11/50\n",
            "704/704 [==============================] - 4s 6ms/step - loss: 1.9024 - accuracy: 0.2707 - val_loss: 1.9164 - val_accuracy: 0.2664\n",
            "Epoch 12/50\n",
            "704/704 [==============================] - 4s 6ms/step - loss: 1.9010 - accuracy: 0.2740 - val_loss: 1.9417 - val_accuracy: 0.2694\n",
            "Epoch 13/50\n",
            "704/704 [==============================] - 4s 6ms/step - loss: 1.8993 - accuracy: 0.2750 - val_loss: 1.9040 - val_accuracy: 0.2674\n",
            "Epoch 14/50\n",
            "704/704 [==============================] - 4s 6ms/step - loss: 1.8979 - accuracy: 0.2738 - val_loss: 1.9286 - val_accuracy: 0.2610\n",
            "Epoch 15/50\n",
            "704/704 [==============================] - 4s 6ms/step - loss: 1.8992 - accuracy: 0.2757 - val_loss: 1.9176 - val_accuracy: 0.2652\n",
            "Epoch 16/50\n",
            "704/704 [==============================] - 4s 6ms/step - loss: 1.8961 - accuracy: 0.2736 - val_loss: 1.9182 - val_accuracy: 0.2716\n",
            "Epoch 17/50\n",
            "704/704 [==============================] - 4s 6ms/step - loss: 1.8945 - accuracy: 0.2760 - val_loss: 1.9083 - val_accuracy: 0.2630\n",
            "Epoch 18/50\n",
            "704/704 [==============================] - 4s 6ms/step - loss: 1.8958 - accuracy: 0.2748 - val_loss: 1.9036 - val_accuracy: 0.2736\n",
            "Epoch 19/50\n",
            "704/704 [==============================] - 4s 6ms/step - loss: 1.8907 - accuracy: 0.2792 - val_loss: 1.9045 - val_accuracy: 0.2740\n",
            "Epoch 20/50\n",
            "704/704 [==============================] - 4s 6ms/step - loss: 1.8929 - accuracy: 0.2779 - val_loss: 1.9027 - val_accuracy: 0.2720\n",
            "Epoch 21/50\n",
            "704/704 [==============================] - 4s 6ms/step - loss: 1.8932 - accuracy: 0.2800 - val_loss: 1.9068 - val_accuracy: 0.2680\n",
            "Epoch 22/50\n",
            "704/704 [==============================] - 4s 6ms/step - loss: 1.8894 - accuracy: 0.2810 - val_loss: 1.9252 - val_accuracy: 0.2672\n",
            "Epoch 23/50\n",
            "704/704 [==============================] - 4s 6ms/step - loss: 1.8899 - accuracy: 0.2780 - val_loss: 1.9398 - val_accuracy: 0.2612\n",
            "Epoch 24/50\n",
            "704/704 [==============================] - 4s 6ms/step - loss: 1.8889 - accuracy: 0.2802 - val_loss: 1.9092 - val_accuracy: 0.2740\n",
            "Epoch 25/50\n",
            "704/704 [==============================] - 5s 6ms/step - loss: 1.8911 - accuracy: 0.2808 - val_loss: 1.9404 - val_accuracy: 0.2644\n",
            "Epoch 26/50\n",
            "704/704 [==============================] - 4s 6ms/step - loss: 1.8881 - accuracy: 0.2802 - val_loss: 1.9052 - val_accuracy: 0.2712\n",
            "Epoch 27/50\n",
            "704/704 [==============================] - 5s 6ms/step - loss: 1.8881 - accuracy: 0.2832 - val_loss: 1.9117 - val_accuracy: 0.2650\n",
            "Epoch 28/50\n",
            "704/704 [==============================] - 4s 6ms/step - loss: 1.8895 - accuracy: 0.2816 - val_loss: 1.9039 - val_accuracy: 0.2746\n",
            "Epoch 29/50\n",
            "704/704 [==============================] - 4s 6ms/step - loss: 1.8848 - accuracy: 0.2816 - val_loss: 1.8960 - val_accuracy: 0.2718\n",
            "Epoch 30/50\n",
            "704/704 [==============================] - 4s 6ms/step - loss: 1.8866 - accuracy: 0.2812 - val_loss: 1.9126 - val_accuracy: 0.2774\n",
            "Epoch 31/50\n",
            "704/704 [==============================] - 4s 6ms/step - loss: 1.8868 - accuracy: 0.2852 - val_loss: 1.8939 - val_accuracy: 0.2754\n",
            "Epoch 32/50\n",
            "704/704 [==============================] - 4s 6ms/step - loss: 1.8850 - accuracy: 0.2844 - val_loss: 1.9272 - val_accuracy: 0.2752\n",
            "Epoch 33/50\n",
            "704/704 [==============================] - 4s 6ms/step - loss: 1.8814 - accuracy: 0.2872 - val_loss: 1.8963 - val_accuracy: 0.2864\n",
            "Epoch 34/50\n",
            "704/704 [==============================] - 4s 6ms/step - loss: 1.8827 - accuracy: 0.2867 - val_loss: 1.8903 - val_accuracy: 0.2852\n",
            "Epoch 35/50\n",
            "704/704 [==============================] - 4s 6ms/step - loss: 1.8668 - accuracy: 0.2979 - val_loss: 1.8761 - val_accuracy: 0.2992\n",
            "Epoch 36/50\n",
            "704/704 [==============================] - 4s 6ms/step - loss: 1.8457 - accuracy: 0.3147 - val_loss: 1.8647 - val_accuracy: 0.3028\n",
            "Epoch 37/50\n",
            "704/704 [==============================] - 4s 6ms/step - loss: 1.8317 - accuracy: 0.3223 - val_loss: 1.8439 - val_accuracy: 0.3172\n",
            "Epoch 38/50\n",
            "704/704 [==============================] - 4s 6ms/step - loss: 1.8186 - accuracy: 0.3295 - val_loss: 1.8353 - val_accuracy: 0.3234\n",
            "Epoch 39/50\n",
            "704/704 [==============================] - 4s 6ms/step - loss: 1.8089 - accuracy: 0.3326 - val_loss: 1.8258 - val_accuracy: 0.3282\n",
            "Epoch 40/50\n",
            "704/704 [==============================] - 4s 6ms/step - loss: 1.8055 - accuracy: 0.3346 - val_loss: 1.8372 - val_accuracy: 0.3188\n",
            "Epoch 41/50\n",
            "704/704 [==============================] - 4s 6ms/step - loss: 1.7956 - accuracy: 0.3399 - val_loss: 1.8132 - val_accuracy: 0.3316\n",
            "Epoch 42/50\n",
            "704/704 [==============================] - 4s 6ms/step - loss: 1.7918 - accuracy: 0.3408 - val_loss: 1.8088 - val_accuracy: 0.3310\n",
            "Epoch 43/50\n",
            "704/704 [==============================] - 4s 6ms/step - loss: 1.7855 - accuracy: 0.3449 - val_loss: 1.8083 - val_accuracy: 0.3318\n",
            "Epoch 44/50\n",
            "704/704 [==============================] - 4s 6ms/step - loss: 1.7836 - accuracy: 0.3444 - val_loss: 1.8168 - val_accuracy: 0.3338\n",
            "Epoch 45/50\n",
            "704/704 [==============================] - 4s 6ms/step - loss: 1.7831 - accuracy: 0.3470 - val_loss: 1.8259 - val_accuracy: 0.3274\n",
            "Epoch 46/50\n",
            "704/704 [==============================] - 4s 6ms/step - loss: 1.7797 - accuracy: 0.3470 - val_loss: 1.8384 - val_accuracy: 0.3292\n",
            "Epoch 47/50\n",
            "704/704 [==============================] - 4s 6ms/step - loss: 1.7774 - accuracy: 0.3475 - val_loss: 1.8075 - val_accuracy: 0.3312\n",
            "Epoch 48/50\n",
            "704/704 [==============================] - 4s 6ms/step - loss: 1.7783 - accuracy: 0.3478 - val_loss: 1.8000 - val_accuracy: 0.3360\n",
            "Epoch 49/50\n",
            "704/704 [==============================] - 4s 6ms/step - loss: 1.7772 - accuracy: 0.3481 - val_loss: 1.8244 - val_accuracy: 0.3324\n",
            "Epoch 50/50\n",
            "704/704 [==============================] - 4s 6ms/step - loss: 1.7733 - accuracy: 0.3494 - val_loss: 1.7959 - val_accuracy: 0.3422\n",
            "313/313 [==============================] - 1s 4ms/step - loss: 1.7838 - accuracy: 0.3417\n"
          ]
        },
        {
          "output_type": "execute_result",
          "data": {
            "text/plain": [
              "[1.7838177680969238, 0.3416999876499176]"
            ]
          },
          "metadata": {},
          "execution_count": 26
        }
      ]
    },
    {
      "cell_type": "code",
      "source": [
        "plt.plot(deep_hist.history['val_accuracy'])\n",
        "plt.plot(res_hist.history['val_accuracy'])\n",
        "plt.title('model accuracy')\n",
        "plt.ylabel('accuracy')\n",
        "plt.xlabel('epoch')\n",
        "plt.legend(['without skip connections', 'with skip connections'], loc='upper left')\n",
        "plt.show()"
      ],
      "metadata": {
        "colab": {
          "base_uri": "https://localhost:8080/",
          "height": 295
        },
        "id": "NggPY2EN8jgJ",
        "outputId": "47c93e9c-6e1b-41da-d3ad-14946bdfadd7"
      },
      "execution_count": null,
      "outputs": [
        {
          "output_type": "display_data",
          "data": {
            "text/plain": [
              "<Figure size 432x288 with 1 Axes>"
            ],
            "image/png": "[encoded data removed]"
          },
          "metadata": {
            "needs_background": "light"
          }
        }
      ]
    },
    {
      "cell_type": "markdown",
      "source": [
        "# 3. Normalization Layers"
      ],
      "metadata": {
        "id": "lLSrzkjBtqTx"
      }
    },
    {
      "cell_type": "code",
      "source": [
        "(x_train, y_train), (x_test, y_test) = keras.datasets.mnist.load_data() # Die besten Modelle auf diesem Datensatz haben ca. 99% Genauigkeit ohne Overfit"
      ],
      "metadata": {
        "id": "Im6CW6yw6xg7"
      },
      "execution_count": null,
      "outputs": []
    },
    {
      "cell_type": "code",
      "source": [
        "x_train = x_train/255\n",
        "x_test = x_test/255\n",
        "\n",
        "y_train = keras.utils.to_categorical(y_train)\n",
        "y_test = keras.utils.to_categorical(y_test)"
      ],
      "metadata": {
        "id": "RXEs3XOB60en"
      },
      "execution_count": null,
      "outputs": []
    },
    {
      "cell_type": "code",
      "source": [
        "norm_model = keras.Sequential()\n",
        "norm_model.add(layers.Input(shape=(28, 28)))\n",
        "norm_model.add(layers.Flatten())\n",
        "norm_model.add(layers.Dense(256, activation='relu', kernel_initializer=keras.initializers.GlorotUniform(123)))\n",
        "norm_model.add(layers.Dropout(0.2))\n",
        "norm_model.add(layers.BatchNormalization())\n",
        "norm_model.add(layers.Dense(256, activation='relu', kernel_initializer=keras.initializers.GlorotUniform(123)))\n",
        "norm_model.add(layers.Dropout(0.2))\n",
        "norm_model.add(layers.BatchNormalization())\n",
        "norm_model.add(layers.Dense(128, activation='relu', kernel_initializer=keras.initializers.GlorotUniform(124)))\n",
        "norm_model.add(layers.Dropout(0.2))\n",
        "norm_model.add(layers.BatchNormalization())\n",
        "norm_model.add(layers.Dense(64, activation='relu', kernel_initializer=keras.initializers.GlorotUniform(125)))\n",
        "norm_model.add(layers.Dropout(0.2))\n",
        "norm_model.add(layers.BatchNormalization())\n",
        "norm_model.add(layers.Dense(64, activation='relu', kernel_initializer=keras.initializers.GlorotUniform(126)))\n",
        "norm_model.add(layers.Dropout(0.2))\n",
        "norm_model.add(layers.BatchNormalization())\n",
        "norm_model.add(layers.Dense(32, activation='relu', kernel_initializer=keras.initializers.GlorotUniform(127)))\n",
        "norm_model.add(layers.Dropout(0.2))\n",
        "norm_model.add(layers.BatchNormalization())\n",
        "norm_model.add(layers.Dense(16, activation='relu', kernel_initializer=keras.initializers.GlorotUniform(128)))\n",
        "norm_model.add(layers.Dropout(0.2))\n",
        "norm_model.add(layers.BatchNormalization())\n",
        "norm_model.add(layers.Dense(16, activation='relu', kernel_initializer=keras.initializers.GlorotUniform(129)))\n",
        "norm_model.add(layers.Dropout(0.2))\n",
        "norm_model.add(layers.BatchNormalization())\n",
        "norm_model.add(layers.Dense(10, activation='softmax', kernel_initializer=keras.initializers.GlorotUniform(130)))\n",
        "\n",
        "norm_model.summary()"
      ],
      "metadata": {
        "colab": {
          "base_uri": "https://localhost:8080/"
        },
        "id": "3DWY-9rXtssI",
        "outputId": "7cb68615-a578-4812-a0d1-7576a05aa53c"
      },
      "execution_count": null,
      "outputs": [
        {
          "output_type": "stream",
          "name": "stdout",
          "text": [
            "Model: \"sequential_20\"\n",
            "_________________________________________________________________\n",
            " Layer (type)                Output Shape              Param #   \n",
            "=================================================================\n",
            " flatten_20 (Flatten)        (None, 784)               0         \n",
            "                                                                 \n",
            " dense_465 (Dense)           (None, 256)               200960    \n",
            "                                                                 \n",
            " dropout_374 (Dropout)       (None, 256)               0         \n",
            "                                                                 \n",
            " batch_normalization_8 (Batc  (None, 256)              1024      \n",
            " hNormalization)                                                 \n",
            "                                                                 \n",
            " dense_466 (Dense)           (None, 256)               65792     \n",
            "                                                                 \n",
            " dropout_375 (Dropout)       (None, 256)               0         \n",
            "                                                                 \n",
            " batch_normalization_9 (Batc  (None, 256)              1024      \n",
            " hNormalization)                                                 \n",
            "                                                                 \n",
            " dense_467 (Dense)           (None, 128)               32896     \n",
            "                                                                 \n",
            " dropout_376 (Dropout)       (None, 128)               0         \n",
            "                                                                 \n",
            " batch_normalization_10 (Bat  (None, 128)              512       \n",
            " chNormalization)                                                \n",
            "                                                                 \n",
            " dense_468 (Dense)           (None, 64)                8256      \n",
            "                                                                 \n",
            " dropout_377 (Dropout)       (None, 64)                0         \n",
            "                                                                 \n",
            " batch_normalization_11 (Bat  (None, 64)               256       \n",
            " chNormalization)                                                \n",
            "                                                                 \n",
            " dense_469 (Dense)           (None, 64)                4160      \n",
            "                                                                 \n",
            " dropout_378 (Dropout)       (None, 64)                0         \n",
            "                                                                 \n",
            " batch_normalization_12 (Bat  (None, 64)               256       \n",
            " chNormalization)                                                \n",
            "                                                                 \n",
            " dense_470 (Dense)           (None, 32)                2080      \n",
            "                                                                 \n",
            " dropout_379 (Dropout)       (None, 32)                0         \n",
            "                                                                 \n",
            " batch_normalization_13 (Bat  (None, 32)               128       \n",
            " chNormalization)                                                \n",
            "                                                                 \n",
            " dense_471 (Dense)           (None, 16)                528       \n",
            "                                                                 \n",
            " dropout_380 (Dropout)       (None, 16)                0         \n",
            "                                                                 \n",
            " batch_normalization_14 (Bat  (None, 16)               64        \n",
            " chNormalization)                                                \n",
            "                                                                 \n",
            " dense_472 (Dense)           (None, 16)                272       \n",
            "                                                                 \n",
            " dropout_381 (Dropout)       (None, 16)                0         \n",
            "                                                                 \n",
            " batch_normalization_15 (Bat  (None, 16)               64        \n",
            " chNormalization)                                                \n",
            "                                                                 \n",
            " dense_473 (Dense)           (None, 10)                170       \n",
            "                                                                 \n",
            "=================================================================\n",
            "Total params: 318,442\n",
            "Trainable params: 316,778\n",
            "Non-trainable params: 1,664\n",
            "_________________________________________________________________\n"
          ]
        }
      ]
    },
    {
      "cell_type": "code",
      "source": [
        "norm_model.compile(optimizer='adam', loss=keras.losses.CategoricalCrossentropy(), metrics=['accuracy'])\n",
        "norm_hist = norm_model.fit(x_train, y_train, batch_size=128, epochs=20, validation_split=0.1)\n",
        "\n",
        "norm_model.evaluate(x_test, y_test, batch_size=128)"
      ],
      "metadata": {
        "colab": {
          "base_uri": "https://localhost:8080/"
        },
        "id": "oj0d0R-nuRId",
        "outputId": "8b1cdf33-d115-44bb-b000-91a58a1a49f9"
      },
      "execution_count": null,
      "outputs": [
        {
          "output_type": "stream",
          "name": "stdout",
          "text": [
            "Epoch 1/20\n",
            "422/422 [==============================] - 6s 9ms/step - loss: 1.4829 - accuracy: 0.4928 - val_loss: 0.5009 - val_accuracy: 0.8335\n",
            "Epoch 2/20\n",
            "422/422 [==============================] - 4s 9ms/step - loss: 0.7720 - accuracy: 0.7550 - val_loss: 0.2655 - val_accuracy: 0.9472\n",
            "Epoch 3/20\n",
            "422/422 [==============================] - 4s 8ms/step - loss: 0.5670 - accuracy: 0.8467 - val_loss: 0.1981 - val_accuracy: 0.9560\n",
            "Epoch 4/20\n",
            "422/422 [==============================] - 4s 8ms/step - loss: 0.4651 - accuracy: 0.8819 - val_loss: 0.1599 - val_accuracy: 0.9667\n",
            "Epoch 5/20\n",
            "422/422 [==============================] - 4s 8ms/step - loss: 0.4073 - accuracy: 0.9007 - val_loss: 0.1704 - val_accuracy: 0.9650\n",
            "Epoch 6/20\n",
            "422/422 [==============================] - 4s 8ms/step - loss: 0.3735 - accuracy: 0.9092 - val_loss: 0.1444 - val_accuracy: 0.9708\n",
            "Epoch 7/20\n",
            "422/422 [==============================] - 4s 10ms/step - loss: 0.3493 - accuracy: 0.9160 - val_loss: 0.1607 - val_accuracy: 0.9633\n",
            "Epoch 8/20\n",
            "422/422 [==============================] - 4s 9ms/step - loss: 0.3256 - accuracy: 0.9204 - val_loss: 0.1425 - val_accuracy: 0.9710\n",
            "Epoch 9/20\n",
            "422/422 [==============================] - 4s 9ms/step - loss: 0.3197 - accuracy: 0.9241 - val_loss: 0.1215 - val_accuracy: 0.9757\n",
            "Epoch 10/20\n",
            "422/422 [==============================] - 4s 8ms/step - loss: 0.2952 - accuracy: 0.9289 - val_loss: 0.1104 - val_accuracy: 0.9780\n",
            "Epoch 11/20\n",
            "422/422 [==============================] - 4s 8ms/step - loss: 0.2907 - accuracy: 0.9314 - val_loss: 0.1100 - val_accuracy: 0.9780\n",
            "Epoch 12/20\n",
            "422/422 [==============================] - 4s 10ms/step - loss: 0.2823 - accuracy: 0.9331 - val_loss: 0.1256 - val_accuracy: 0.9753\n",
            "Epoch 13/20\n",
            "422/422 [==============================] - 4s 9ms/step - loss: 0.2677 - accuracy: 0.9360 - val_loss: 0.1130 - val_accuracy: 0.9777\n",
            "Epoch 14/20\n",
            "422/422 [==============================] - 4s 9ms/step - loss: 0.2561 - accuracy: 0.9411 - val_loss: 0.1013 - val_accuracy: 0.9798\n",
            "Epoch 15/20\n",
            "422/422 [==============================] - 4s 9ms/step - loss: 0.2538 - accuracy: 0.9401 - val_loss: 0.1027 - val_accuracy: 0.9808\n",
            "Epoch 16/20\n",
            "422/422 [==============================] - 4s 9ms/step - loss: 0.2445 - accuracy: 0.9424 - val_loss: 0.1040 - val_accuracy: 0.9798\n",
            "Epoch 17/20\n",
            "422/422 [==============================] - 4s 10ms/step - loss: 0.2435 - accuracy: 0.9433 - val_loss: 0.0964 - val_accuracy: 0.9805\n",
            "Epoch 18/20\n",
            "422/422 [==============================] - 4s 9ms/step - loss: 0.2350 - accuracy: 0.9451 - val_loss: 0.0983 - val_accuracy: 0.9810\n",
            "Epoch 19/20\n",
            "422/422 [==============================] - 4s 9ms/step - loss: 0.2346 - accuracy: 0.9448 - val_loss: 0.0968 - val_accuracy: 0.9825\n",
            "Epoch 20/20\n",
            "422/422 [==============================] - 4s 9ms/step - loss: 0.2193 - accuracy: 0.9492 - val_loss: 0.1013 - val_accuracy: 0.9817\n",
            "79/79 [==============================] - 0s 3ms/step - loss: 0.1113 - accuracy: 0.9775\n"
          ]
        },
        {
          "output_type": "execute_result",
          "data": {
            "text/plain": [
              "[0.11128368228673935, 0.9775000214576721]"
            ]
          },
          "metadata": {},
          "execution_count": 52
        }
      ]
    },
    {
      "cell_type": "markdown",
      "source": [
        "# Aufgabe: Versuche ein tiefes Netz (min 10 Layer) zu definieren und damit die höchste Accuracy auf dem Fashion MNIST Datensatz zu erzielen"
      ],
      "metadata": {
        "id": "C6P2uMM-uhjx"
      }
    },
    {
      "cell_type": "code",
      "source": [
        "(X_train, y_train), (X_test, y_test) = keras.datasets.fashion_mnist.load_data()\n",
        "\n",
        "y_train = keras.utils.to_categorical(y_train)\n",
        "y_test = keras.utils.to_categorical(y_test)\n",
        "\n",
        "X_train = X_train / np.max(X_train)\n",
        "X_test = X_test / np.max(X_train)"
      ],
      "metadata": {
        "id": "HDTT4wZ9utYJ"
      },
      "execution_count": null,
      "outputs": []
    },
    {
      "cell_type": "code",
      "source": [
        ""
      ],
      "metadata": {
        "id": "bj2pdp8Qq21K"
      },
      "execution_count": null,
      "outputs": []
    }
  ]
}