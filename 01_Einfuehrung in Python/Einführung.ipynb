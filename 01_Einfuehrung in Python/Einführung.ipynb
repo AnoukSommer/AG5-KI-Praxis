{
 "cells": [
  {
   "cell_type": "markdown",
   "source": [
    "# Einführung in Python (für Machine Learning)"
   ],
   "metadata": {
    "collapsed": false,
    "pycharm": {
     "name": "#%% md\n"
    }
   }
  },
  {
   "cell_type": "markdown",
   "source": [
    "## Einführung in Jupyter Notebooks"
   ],
   "metadata": {
    "collapsed": false,
    "pycharm": {
     "name": "#%% md\n"
    }
   }
  },
  {
   "cell_type": "markdown",
   "source": [
    "**Jupyter Notebooks** sind eine Kombination aus *(Python-) Code* und *(Markdown-) Text*"
   ],
   "metadata": {
    "collapsed": false,
    "pycharm": {
     "name": "#%% md\n"
    }
   }
  },
  {
   "cell_type": "markdown",
   "source": [
    "In *Code-Zellen* lässt sich ganz normaler Python Code schreiben, der per **Shift+Enter** ausgeführt werden kann, dann erscheint unter der Code-Zelle evtl. eine Ausgabe"
   ],
   "metadata": {
    "collapsed": false,
    "pycharm": {
     "name": "#%% md\n"
    }
   }
  },
  {
   "cell_type": "code",
   "execution_count": 2,
   "metadata": {
    "pycharm": {
     "name": "#%%\n"
    }
   },
   "outputs": [
    {
     "name": "stdout",
     "output_type": "stream",
     "text": [
      "10\n",
      "it is ten\n"
     ]
    }
   ],
   "source": [
    "x = input()\n",
    "if int(x) == 10:\n",
    "    print(\"it is ten\")"
   ]
  },
  {
   "cell_type": "markdown",
   "source": [
    "In *Markdown-Zellen* lässt sich ganz normaler Text schreiben, dieser kann verwendet werden, um den Code zu beschreiben"
   ],
   "metadata": {
    "collapsed": false,
    "pycharm": {
     "name": "#%% md\n"
    }
   }
  },
  {
   "cell_type": "markdown",
   "metadata": {
    "pycharm": {
     "name": "#%% md\n"
    }
   },
   "source": [
    "Dies ist eine kurze Einführung"
   ]
  },
  {
   "cell_type": "code",
   "execution_count": 3,
   "metadata": {
    "pycharm": {
     "name": "#%%\n"
    }
   },
   "outputs": [
    {
     "name": "stdout",
     "output_type": "stream",
     "text": [
      "10\n"
     ]
    }
   ],
   "source": [
    "print(x)"
   ]
  },
  {
   "cell_type": "code",
   "execution_count": 4,
   "metadata": {
    "pycharm": {
     "name": "#%%\n"
    }
   },
   "outputs": [
    {
     "name": "stdout",
     "output_type": "stream",
     "text": [
      "Hallo\n"
     ]
    }
   ],
   "source": [
    "print('Hallo')"
   ]
  },
  {
   "cell_type": "markdown",
   "source": [
    "Steht in der letzten Zeile einer Code-Zelle eine Variable so ist der Output der Zelle der Wert der Variablen"
   ],
   "metadata": {
    "collapsed": false,
    "pycharm": {
     "name": "#%% md\n"
    }
   }
  },
  {
   "cell_type": "code",
   "execution_count": 5,
   "metadata": {
    "pycharm": {
     "name": "#%%\n"
    }
   },
   "outputs": [
    {
     "data": {
      "text/plain": [
       "'10'"
      ]
     },
     "execution_count": 5,
     "metadata": {},
     "output_type": "execute_result"
    }
   ],
   "source": [
    "x"
   ]
  },
  {
   "cell_type": "code",
   "execution_count": 8,
   "metadata": {
    "pycharm": {
     "name": "#%%\n"
    }
   },
   "outputs": [
    {
     "data": {
      "text/plain": [
       "'101'"
      ]
     },
     "execution_count": 8,
     "metadata": {},
     "output_type": "execute_result"
    }
   ],
   "source": [
    "if int(x) == 10:\n",
    "    x = x + '1'\n",
    "x"
   ]
  },
  {
   "cell_type": "markdown",
   "source": [
    "Mit Markdown lässt sich Text formatieren, man kann Text kursiv oder fett schreiben oder Überschriften definieren"
   ],
   "metadata": {
    "collapsed": false,
    "pycharm": {
     "name": "#%% md\n"
    }
   }
  },
  {
   "cell_type": "markdown",
   "metadata": {
    "pycharm": {
     "name": "#%% md\n"
    }
   },
   "source": [
    "Text. *Kursiven Text* **Fetter Text**"
   ]
  },
  {
   "cell_type": "markdown",
   "source": [
    "# Eine Überschrift"
   ],
   "metadata": {
    "collapsed": false,
    "pycharm": {
     "name": "#%% md\n"
    }
   }
  },
  {
   "cell_type": "markdown",
   "source": [
    "In Markdown Zellen lässt sich **Latex-Code** verwenden, so dass man z.B. mathmatische Formeln schreiben kann."
   ],
   "metadata": {
    "collapsed": false,
    "pycharm": {
     "name": "#%% md\n"
    }
   }
  },
  {
   "cell_type": "markdown",
   "metadata": {
    "pycharm": {
     "name": "#%% md\n"
    }
   },
   "source": [
    "$$\\sum_{k=1}^{42} k$$"
   ]
  },
  {
   "cell_type": "markdown",
   "source": [
    "ACHTUNG: In Juypter Notebooks ist die Reihenfolge der Ausführung *nicht* vorgeschrieben, daher sollte man immer darauf achten in welcher Reihenfolge man seinen Code ausführt. Eine Hilfe können die Zahlen links am Rand sein"
   ],
   "metadata": {
    "collapsed": false,
    "pycharm": {
     "name": "#%% md\n"
    }
   }
  },
  {
   "cell_type": "code",
   "execution_count": 21,
   "metadata": {
    "pycharm": {
     "name": "#%%\n"
    }
   },
   "outputs": [],
   "source": [
    "x = 11"
   ]
  },
  {
   "cell_type": "code",
   "execution_count": 20,
   "metadata": {
    "pycharm": {
     "name": "#%%\n"
    }
   },
   "outputs": [],
   "source": [
    "x = 10"
   ]
  },
  {
   "cell_type": "code",
   "execution_count": 22,
   "metadata": {
    "pycharm": {
     "name": "#%%\n"
    }
   },
   "outputs": [
    {
     "data": {
      "text/plain": [
       "11"
      ]
     },
     "execution_count": 22,
     "metadata": {},
     "output_type": "execute_result"
    }
   ],
   "source": [
    "x"
   ]
  },
  {
   "cell_type": "markdown",
   "source": [
    "Stellt man ein ! an den Anfang einer Code-Zelle so wird der darauffolgende Text als Befehl für die **Eingabeaufforderung** (CMD/Terminal) betrachtet.\n",
    "So lassen sich z.B. neue Python Packages mit dem **Packagemanager pip** installieren."
   ],
   "metadata": {
    "collapsed": false,
    "pycharm": {
     "name": "#%% md\n"
    }
   }
  },
  {
   "cell_type": "code",
   "execution_count": 23,
   "metadata": {
    "pycharm": {
     "name": "#%%\n"
    }
   },
   "outputs": [
    {
     "name": "stdout",
     "output_type": "stream",
     "text": [
      "Requirement already satisfied: tensorflow in c:\\users\\ragor\\anaconda3\\lib\\site-packages (2.8.0)\n",
      "Requirement already satisfied: libclang>=9.0.1 in c:\\users\\ragor\\anaconda3\\lib\\site-packages (from tensorflow) (13.0.0)\n",
      "Requirement already satisfied: absl-py>=0.4.0 in c:\\users\\ragor\\anaconda3\\lib\\site-packages (from tensorflow) (1.0.0)\n",
      "Requirement already satisfied: flatbuffers>=1.12 in c:\\users\\ragor\\anaconda3\\lib\\site-packages (from tensorflow) (2.0)\n",
      "Requirement already satisfied: keras-preprocessing>=1.1.1 in c:\\users\\ragor\\anaconda3\\lib\\site-packages (from tensorflow) (1.1.2)\n",
      "Requirement already satisfied: protobuf>=3.9.2 in c:\\users\\ragor\\anaconda3\\lib\\site-packages (from tensorflow) (3.20.0)\n",
      "Requirement already satisfied: google-pasta>=0.1.1 in c:\\users\\ragor\\anaconda3\\lib\\site-packages (from tensorflow) (0.2.0)\n",
      "Requirement already satisfied: wrapt>=1.11.0 in c:\\users\\ragor\\anaconda3\\lib\\site-packages (from tensorflow) (1.11.2)\n",
      "Requirement already satisfied: gast>=0.2.1 in c:\\users\\ragor\\anaconda3\\lib\\site-packages (from tensorflow) (0.5.3)\n",
      "Requirement already satisfied: h5py>=2.9.0 in c:\\users\\ragor\\anaconda3\\lib\\site-packages (from tensorflow) (2.10.0)\n",
      "Requirement already satisfied: setuptools in c:\\users\\ragor\\anaconda3\\lib\\site-packages (from tensorflow) (50.3.1.post20201107)\n",
      "Requirement already satisfied: six>=1.12.0 in c:\\users\\ragor\\anaconda3\\lib\\site-packages (from tensorflow) (1.15.0)\n",
      "Requirement already satisfied: grpcio<2.0,>=1.24.3 in c:\\users\\ragor\\anaconda3\\lib\\site-packages (from tensorflow) (1.44.0)\n",
      "Requirement already satisfied: typing-extensions>=3.6.6 in c:\\users\\ragor\\anaconda3\\lib\\site-packages (from tensorflow) (3.7.4.3)\n",
      "Requirement already satisfied: opt-einsum>=2.3.2 in c:\\users\\ragor\\anaconda3\\lib\\site-packages (from tensorflow) (3.3.0)\n",
      "Requirement already satisfied: tensorflow-io-gcs-filesystem>=0.23.1 in c:\\users\\ragor\\anaconda3\\lib\\site-packages (from tensorflow) (0.24.0)\n",
      "Requirement already satisfied: astunparse>=1.6.0 in c:\\users\\ragor\\anaconda3\\lib\\site-packages (from tensorflow) (1.6.3)\n",
      "Requirement already satisfied: numpy>=1.20 in c:\\users\\ragor\\anaconda3\\lib\\site-packages (from tensorflow) (1.22.3)\n",
      "Requirement already satisfied: termcolor>=1.1.0 in c:\\users\\ragor\\anaconda3\\lib\\site-packages (from tensorflow) (1.1.0)\n",
      "Requirement already satisfied: tensorboard<2.9,>=2.8 in c:\\users\\ragor\\anaconda3\\lib\\site-packages (from tensorflow) (2.8.0)\n",
      "Requirement already satisfied: keras<2.9,>=2.8.0rc0 in c:\\users\\ragor\\anaconda3\\lib\\site-packages (from tensorflow) (2.8.0)\n",
      "Requirement already satisfied: tf-estimator-nightly==2.8.0.dev2021122109 in c:\\users\\ragor\\anaconda3\\lib\\site-packages (from tensorflow) (2.8.0.dev2021122109)\n",
      "Requirement already satisfied: wheel<1.0,>=0.23.0 in c:\\users\\ragor\\anaconda3\\lib\\site-packages (from astunparse>=1.6.0->tensorflow) (0.35.1)\n",
      "Requirement already satisfied: google-auth<3,>=1.6.3 in c:\\users\\ragor\\anaconda3\\lib\\site-packages (from tensorboard<2.9,>=2.8->tensorflow) (2.6.4)\n",
      "Requirement already satisfied: werkzeug>=0.11.15 in c:\\users\\ragor\\anaconda3\\lib\\site-packages (from tensorboard<2.9,>=2.8->tensorflow) (1.0.1)\n",
      "Requirement already satisfied: google-auth-oauthlib<0.5,>=0.4.1 in c:\\users\\ragor\\anaconda3\\lib\\site-packages (from tensorboard<2.9,>=2.8->tensorflow) (0.4.6)\n",
      "Requirement already satisfied: tensorboard-data-server<0.7.0,>=0.6.0 in c:\\users\\ragor\\anaconda3\\lib\\site-packages (from tensorboard<2.9,>=2.8->tensorflow) (0.6.1)\n",
      "Requirement already satisfied: tensorboard-plugin-wit>=1.6.0 in c:\\users\\ragor\\anaconda3\\lib\\site-packages (from tensorboard<2.9,>=2.8->tensorflow) (1.8.1)\n",
      "Requirement already satisfied: requests<3,>=2.21.0 in c:\\users\\ragor\\anaconda3\\lib\\site-packages (from tensorboard<2.9,>=2.8->tensorflow) (2.24.0)\n",
      "Requirement already satisfied: markdown>=2.6.8 in c:\\users\\ragor\\anaconda3\\lib\\site-packages (from tensorboard<2.9,>=2.8->tensorflow) (3.3.6)\n",
      "Requirement already satisfied: cachetools<6.0,>=2.0.0 in c:\\users\\ragor\\anaconda3\\lib\\site-packages (from google-auth<3,>=1.6.3->tensorboard<2.9,>=2.8->tensorflow) (5.0.0)\n",
      "Requirement already satisfied: rsa<5,>=3.1.4; python_version >= \"3.6\" in c:\\users\\ragor\\anaconda3\\lib\\site-packages (from google-auth<3,>=1.6.3->tensorboard<2.9,>=2.8->tensorflow) (4.8)\n",
      "Requirement already satisfied: pyasn1-modules>=0.2.1 in c:\\users\\ragor\\anaconda3\\lib\\site-packages (from google-auth<3,>=1.6.3->tensorboard<2.9,>=2.8->tensorflow) (0.2.8)\n",
      "Requirement already satisfied: requests-oauthlib>=0.7.0 in c:\\users\\ragor\\anaconda3\\lib\\site-packages (from google-auth-oauthlib<0.5,>=0.4.1->tensorboard<2.9,>=2.8->tensorflow) (1.3.1)\n",
      "Requirement already satisfied: certifi>=2017.4.17 in c:\\users\\ragor\\anaconda3\\lib\\site-packages (from requests<3,>=2.21.0->tensorboard<2.9,>=2.8->tensorflow) (2021.10.8)\n",
      "Requirement already satisfied: idna<3,>=2.5 in c:\\users\\ragor\\anaconda3\\lib\\site-packages (from requests<3,>=2.21.0->tensorboard<2.9,>=2.8->tensorflow) (2.10)\n",
      "Requirement already satisfied: chardet<4,>=3.0.2 in c:\\users\\ragor\\anaconda3\\lib\\site-packages (from requests<3,>=2.21.0->tensorboard<2.9,>=2.8->tensorflow) (3.0.4)\n",
      "Requirement already satisfied: urllib3!=1.25.0,!=1.25.1,<1.26,>=1.21.1 in c:\\users\\ragor\\anaconda3\\lib\\site-packages (from requests<3,>=2.21.0->tensorboard<2.9,>=2.8->tensorflow) (1.25.11)\n",
      "Requirement already satisfied: importlib-metadata>=4.4; python_version < \"3.10\" in c:\\users\\ragor\\anaconda3\\lib\\site-packages (from markdown>=2.6.8->tensorboard<2.9,>=2.8->tensorflow) (4.11.3)\n",
      "Requirement already satisfied: pyasn1>=0.1.3 in c:\\users\\ragor\\anaconda3\\lib\\site-packages (from rsa<5,>=3.1.4; python_version >= \"3.6\"->google-auth<3,>=1.6.3->tensorboard<2.9,>=2.8->tensorflow) (0.4.8)\n",
      "Requirement already satisfied: oauthlib>=3.0.0 in c:\\users\\ragor\\anaconda3\\lib\\site-packages (from requests-oauthlib>=0.7.0->google-auth-oauthlib<0.5,>=0.4.1->tensorboard<2.9,>=2.8->tensorflow) (3.2.0)\n",
      "Requirement already satisfied: zipp>=0.5 in c:\\users\\ragor\\anaconda3\\lib\\site-packages (from importlib-metadata>=4.4; python_version < \"3.10\"->markdown>=2.6.8->tensorboard<2.9,>=2.8->tensorflow) (3.4.0)\n"
     ]
    }
   ],
   "source": [
    "!pip install tensorflow"
   ]
  },
  {
   "cell_type": "markdown",
   "metadata": {
    "pycharm": {
     "name": "#%% md\n"
    }
   },
   "source": [
    "## Python Einführung"
   ]
  },
  {
   "cell_type": "markdown",
   "source": [
    "**Kommentare** beginnen in Python mit einem #, mehrzeilige Kommentare umschließt man mit drei \"\"\""
   ],
   "metadata": {
    "collapsed": false,
    "pycharm": {
     "name": "#%% md\n"
    }
   }
  },
  {
   "cell_type": "code",
   "execution_count": 24,
   "metadata": {
    "pycharm": {
     "name": "#%%\n"
    }
   },
   "outputs": [],
   "source": [
    "# Dies ist ein Kommentar"
   ]
  },
  {
   "cell_type": "markdown",
   "source": [
    "**Variablen** werden in Python nicht erst deklariert und dann initialisiert, stattdessen wird einem Bezeichner einfach ein Wert zugewiesen. Auch den **Typ** der Variablen ermittelt Python automatisch"
   ],
   "metadata": {
    "collapsed": false,
    "pycharm": {
     "name": "#%% md\n"
    }
   }
  },
  {
   "cell_type": "code",
   "execution_count": 25,
   "metadata": {
    "pycharm": {
     "name": "#%%\n"
    }
   },
   "outputs": [],
   "source": [
    "x = 10"
   ]
  },
  {
   "cell_type": "code",
   "execution_count": 26,
   "metadata": {
    "pycharm": {
     "name": "#%%\n"
    }
   },
   "outputs": [
    {
     "data": {
      "text/plain": [
       "10"
      ]
     },
     "execution_count": 26,
     "metadata": {},
     "output_type": "execute_result"
    }
   ],
   "source": [
    "x"
   ]
  },
  {
   "cell_type": "code",
   "execution_count": 29,
   "metadata": {
    "pycharm": {
     "name": "#%%\n"
    }
   },
   "outputs": [],
   "source": [
    "y = \"Coding\""
   ]
  },
  {
   "cell_type": "code",
   "execution_count": 30,
   "metadata": {
    "pycharm": {
     "name": "#%%\n"
    }
   },
   "outputs": [
    {
     "data": {
      "text/plain": [
       "'Coding'"
      ]
     },
     "execution_count": 30,
     "metadata": {},
     "output_type": "execute_result"
    }
   ],
   "source": [
    "y"
   ]
  },
  {
   "cell_type": "markdown",
   "source": [
    "Der Typ einer Variablen kann verändert werden (**Casting**), indem man den Bezeichner mit dem Namen des gewünschten Typs versieht"
   ],
   "metadata": {
    "collapsed": false,
    "pycharm": {
     "name": "#%% md\n"
    }
   }
  },
  {
   "cell_type": "code",
   "execution_count": 31,
   "metadata": {
    "pycharm": {
     "name": "#%%\n"
    }
   },
   "outputs": [
    {
     "data": {
      "text/plain": [
       "'10'"
      ]
     },
     "execution_count": 31,
     "metadata": {},
     "output_type": "execute_result"
    }
   ],
   "source": [
    "str(x)"
   ]
  },
  {
   "cell_type": "code",
   "execution_count": 33,
   "metadata": {
    "pycharm": {
     "name": "#%%\n"
    }
   },
   "outputs": [
    {
     "data": {
      "text/plain": [
       "10"
      ]
     },
     "execution_count": 33,
     "metadata": {},
     "output_type": "execute_result"
    }
   ],
   "source": [
    "y = '10'\n",
    "y = int(y)\n",
    "y"
   ]
  },
  {
   "cell_type": "markdown",
   "source": [
    "Auf den Typ einer Variablen kann man mit `type()` zugreifen"
   ],
   "metadata": {
    "collapsed": false,
    "pycharm": {
     "name": "#%% md\n"
    }
   }
  },
  {
   "cell_type": "code",
   "execution_count": 36,
   "metadata": {
    "pycharm": {
     "name": "#%%\n"
    }
   },
   "outputs": [
    {
     "data": {
      "text/plain": [
       "bool"
      ]
     },
     "execution_count": 36,
     "metadata": {},
     "output_type": "execute_result"
    }
   ],
   "source": [
    "x = True\n",
    "type(x)"
   ]
  },
  {
   "cell_type": "code",
   "execution_count": 38,
   "metadata": {
    "pycharm": {
     "name": "#%%\n"
    }
   },
   "outputs": [
    {
     "data": {
      "text/plain": [
       "str"
      ]
     },
     "execution_count": 38,
     "metadata": {},
     "output_type": "execute_result"
    }
   ],
   "source": [
    "x = 'true'\n",
    "type(x[0])"
   ]
  },
  {
   "cell_type": "markdown",
   "source": [
    "Mehrzeilige Strings können in Python komfortabel durch drei \" definiert werden"
   ],
   "metadata": {
    "collapsed": false,
    "pycharm": {
     "name": "#%% md\n"
    }
   }
  },
  {
   "cell_type": "code",
   "execution_count": 40,
   "metadata": {
    "pycharm": {
     "name": "#%%\n"
    }
   },
   "outputs": [
    {
     "name": "stdout",
     "output_type": "stream",
     "text": [
      "Hello there\n",
      "General Grevious\n"
     ]
    }
   ],
   "source": [
    "x = \"\"\"Hello there\n",
    "General Grevious\"\"\"\n",
    "print(x)"
   ]
  },
  {
   "cell_type": "markdown",
   "source": [
    "Alle Python-Typen können zu bool konvertiert werden, nur 0 (bei int und float), leere Strings und leere Listen sind False, alle anderen True"
   ],
   "metadata": {
    "collapsed": false,
    "pycharm": {
     "name": "#%% md\n"
    }
   }
  },
  {
   "cell_type": "code",
   "execution_count": 41,
   "metadata": {
    "pycharm": {
     "name": "#%%\n"
    }
   },
   "outputs": [
    {
     "data": {
      "text/plain": [
       "True"
      ]
     },
     "execution_count": 41,
     "metadata": {},
     "output_type": "execute_result"
    }
   ],
   "source": [
    "bool(x)"
   ]
  },
  {
   "cell_type": "code",
   "execution_count": 42,
   "metadata": {
    "pycharm": {
     "name": "#%%\n"
    }
   },
   "outputs": [
    {
     "data": {
      "text/plain": [
       "True"
      ]
     },
     "execution_count": 42,
     "metadata": {},
     "output_type": "execute_result"
    }
   ],
   "source": [
    "y = 10\n",
    "bool(y)"
   ]
  },
  {
   "cell_type": "code",
   "execution_count": 43,
   "metadata": {
    "pycharm": {
     "name": "#%%\n"
    }
   },
   "outputs": [
    {
     "data": {
      "text/plain": [
       "False"
      ]
     },
     "execution_count": 43,
     "metadata": {},
     "output_type": "execute_result"
    }
   ],
   "source": [
    "y = 0\n",
    "bool(y)"
   ]
  },
  {
   "cell_type": "code",
   "execution_count": 44,
   "metadata": {
    "pycharm": {
     "name": "#%%\n"
    }
   },
   "outputs": [
    {
     "data": {
      "text/plain": [
       "False"
      ]
     },
     "execution_count": 44,
     "metadata": {},
     "output_type": "execute_result"
    }
   ],
   "source": [
    "x = \"\"\n",
    "bool(x)"
   ]
  },
  {
   "cell_type": "markdown",
   "source": [
    "**Rechenoperatoren** können in Python wie gewohnt verwendet werden."
   ],
   "metadata": {
    "collapsed": false,
    "pycharm": {
     "name": "#%% md\n"
    }
   }
  },
  {
   "cell_type": "code",
   "execution_count": 45,
   "metadata": {
    "pycharm": {
     "name": "#%%\n"
    }
   },
   "outputs": [
    {
     "data": {
      "text/plain": [
       "20"
      ]
     },
     "execution_count": 45,
     "metadata": {},
     "output_type": "execute_result"
    }
   ],
   "source": [
    "a = 10\n",
    "b = 10\n",
    "a + b"
   ]
  },
  {
   "cell_type": "markdown",
   "source": [
    "**Pro-Tipp** Mit dem Modulo-Operator, der den Rest einer Ganzzahldivision zurück gibt, lässt sich leicht bestimmen, ob eine Zahl gerade oder ungerade ist."
   ],
   "metadata": {
    "collapsed": false,
    "pycharm": {
     "name": "#%% md\n"
    }
   }
  },
  {
   "cell_type": "code",
   "execution_count": 47,
   "metadata": {
    "pycharm": {
     "name": "#%%\n"
    }
   },
   "outputs": [
    {
     "data": {
      "text/plain": [
       "1"
      ]
     },
     "execution_count": 47,
     "metadata": {},
     "output_type": "execute_result"
    }
   ],
   "source": [
    "a = 11\n",
    "\n",
    "a % 2"
   ]
  },
  {
   "cell_type": "markdown",
   "source": [
    "Auch Texte und Listen lassen sich in Python addieren, dadurch werden sie **konkateniert**."
   ],
   "metadata": {
    "collapsed": false,
    "pycharm": {
     "name": "#%% md\n"
    }
   }
  },
  {
   "cell_type": "code",
   "execution_count": 48,
   "metadata": {
    "pycharm": {
     "name": "#%%\n"
    }
   },
   "outputs": [
    {
     "data": {
      "text/plain": [
       "'Dies ist ein Text'"
      ]
     },
     "execution_count": 48,
     "metadata": {},
     "output_type": "execute_result"
    }
   ],
   "source": [
    "a = 'Dies ist ein'\n",
    "b = ' Text'\n",
    "a + b"
   ]
  },
  {
   "cell_type": "code",
   "execution_count": 49,
   "metadata": {
    "pycharm": {
     "name": "#%%\n"
    }
   },
   "outputs": [
    {
     "data": {
      "text/plain": [
       "[9, 2, 8, 3]"
      ]
     },
     "execution_count": 49,
     "metadata": {},
     "output_type": "execute_result"
    }
   ],
   "source": [
    "a = [9, 2]\n",
    "b = [8, 3]\n",
    "\n",
    "a + b"
   ]
  },
  {
   "cell_type": "code",
   "execution_count": 51,
   "metadata": {
    "pycharm": {
     "name": "#%%\n"
    }
   },
   "outputs": [
    {
     "data": {
      "text/plain": [
       "11"
      ]
     },
     "execution_count": 51,
     "metadata": {},
     "output_type": "execute_result"
    }
   ],
   "source": [
    "a = 10\n",
    "a = a + 1\n",
    "a"
   ]
  },
  {
   "cell_type": "markdown",
   "source": [
    "Der `+=` Operator entspricht `a = a + x`"
   ],
   "metadata": {
    "collapsed": false,
    "pycharm": {
     "name": "#%% md\n"
    }
   }
  },
  {
   "cell_type": "code",
   "execution_count": 55,
   "metadata": {
    "pycharm": {
     "name": "#%%\n"
    }
   },
   "outputs": [
    {
     "data": {
      "text/plain": [
       "15"
      ]
     },
     "execution_count": 55,
     "metadata": {},
     "output_type": "execute_result"
    }
   ],
   "source": [
    "a += 1\n",
    "a"
   ]
  },
  {
   "cell_type": "markdown",
   "source": [
    "Variablen lassen sich mit den **Vergleichsoperatoren** ==, !=, >, <, >= und <= vergleichen und liefern dann einen bool-Wert"
   ],
   "metadata": {
    "collapsed": false,
    "pycharm": {
     "name": "#%% md\n"
    }
   }
  },
  {
   "cell_type": "code",
   "execution_count": 59,
   "metadata": {
    "pycharm": {
     "name": "#%%\n"
    }
   },
   "outputs": [
    {
     "data": {
      "text/plain": [
       "False"
      ]
     },
     "execution_count": 59,
     "metadata": {},
     "output_type": "execute_result"
    }
   ],
   "source": [
    "a = 10\n",
    "b = 11\n",
    "\n",
    "a == b"
   ]
  },
  {
   "cell_type": "code",
   "execution_count": 61,
   "metadata": {
    "pycharm": {
     "name": "#%%\n"
    }
   },
   "outputs": [
    {
     "data": {
      "text/plain": [
       "True"
      ]
     },
     "execution_count": 61,
     "metadata": {},
     "output_type": "execute_result"
    }
   ],
   "source": [
    "a = [9]\n",
    "bool(a)"
   ]
  },
  {
   "cell_type": "markdown",
   "source": [
    "**Listen** sind mehrere Werte die in nur einer Variable gespeichert sind. Listen lassen sich hinsichtlich Reihenfolge und Länge verändern. Durch eckige Klammern erhält man Zugriff auf ein Element der Liste. Mit len(liste) erhält man die aktuelle Länge der Liste"
   ],
   "metadata": {
    "collapsed": false,
    "pycharm": {
     "name": "#%% md\n"
    }
   }
  },
  {
   "cell_type": "code",
   "execution_count": 62,
   "metadata": {
    "pycharm": {
     "name": "#%%\n"
    }
   },
   "outputs": [],
   "source": [
    "ergebnisse = [10, 9.4, 2.3]"
   ]
  },
  {
   "cell_type": "code",
   "execution_count": 63,
   "metadata": {
    "pycharm": {
     "name": "#%%\n"
    }
   },
   "outputs": [
    {
     "data": {
      "text/plain": [
       "[10, 9.4, 2.3]"
      ]
     },
     "execution_count": 63,
     "metadata": {},
     "output_type": "execute_result"
    }
   ],
   "source": [
    "ergebnisse"
   ]
  },
  {
   "cell_type": "code",
   "execution_count": 65,
   "metadata": {
    "pycharm": {
     "name": "#%%\n"
    }
   },
   "outputs": [
    {
     "data": {
      "text/plain": [
       "9.4"
      ]
     },
     "execution_count": 65,
     "metadata": {},
     "output_type": "execute_result"
    }
   ],
   "source": [
    "ergebnisse[1]"
   ]
  },
  {
   "cell_type": "code",
   "execution_count": 66,
   "metadata": {
    "pycharm": {
     "name": "#%%\n"
    }
   },
   "outputs": [],
   "source": [
    "ergebnisse.sort()"
   ]
  },
  {
   "cell_type": "code",
   "execution_count": 67,
   "metadata": {
    "pycharm": {
     "name": "#%%\n"
    }
   },
   "outputs": [
    {
     "data": {
      "text/plain": [
       "[2.3, 9.4, 10]"
      ]
     },
     "execution_count": 67,
     "metadata": {},
     "output_type": "execute_result"
    }
   ],
   "source": [
    "ergebnisse"
   ]
  },
  {
   "cell_type": "code",
   "execution_count": 68,
   "metadata": {
    "pycharm": {
     "name": "#%%\n"
    }
   },
   "outputs": [],
   "source": [
    "ergebnisse.append(3)"
   ]
  },
  {
   "cell_type": "code",
   "execution_count": 69,
   "metadata": {
    "pycharm": {
     "name": "#%%\n"
    }
   },
   "outputs": [
    {
     "data": {
      "text/plain": [
       "[2.3, 9.4, 10, 3]"
      ]
     },
     "execution_count": 69,
     "metadata": {},
     "output_type": "execute_result"
    }
   ],
   "source": [
    "ergebnisse"
   ]
  },
  {
   "cell_type": "code",
   "execution_count": 70,
   "metadata": {
    "pycharm": {
     "name": "#%%\n"
    }
   },
   "outputs": [
    {
     "data": {
      "text/plain": [
       "4"
      ]
     },
     "execution_count": 70,
     "metadata": {},
     "output_type": "execute_result"
    }
   ],
   "source": [
    "len(ergebnisse)"
   ]
  },
  {
   "cell_type": "markdown",
   "source": [
    "**Tupel** sind auch mehrere Werte, die in nur einer Variable gespeichert werden. Tupel haben eine feste Länge und Reihenfolge."
   ],
   "metadata": {
    "collapsed": false,
    "pycharm": {
     "name": "#%% md\n"
    }
   }
  },
  {
   "cell_type": "code",
   "execution_count": 71,
   "metadata": {
    "pycharm": {
     "name": "#%%\n"
    }
   },
   "outputs": [],
   "source": [
    "tuple = (10, 2.3, 9.4)"
   ]
  },
  {
   "cell_type": "code",
   "execution_count": 72,
   "metadata": {
    "pycharm": {
     "name": "#%%\n"
    }
   },
   "outputs": [
    {
     "data": {
      "text/plain": [
       "(10, 2.3, 9.4)"
      ]
     },
     "execution_count": 72,
     "metadata": {},
     "output_type": "execute_result"
    }
   ],
   "source": [
    "tuple"
   ]
  },
  {
   "cell_type": "code",
   "execution_count": 73,
   "metadata": {
    "pycharm": {
     "name": "#%%\n"
    }
   },
   "outputs": [
    {
     "data": {
      "text/plain": [
       "3"
      ]
     },
     "execution_count": 73,
     "metadata": {},
     "output_type": "execute_result"
    }
   ],
   "source": [
    "len(tuple)"
   ]
  },
  {
   "cell_type": "code",
   "execution_count": 75,
   "metadata": {
    "pycharm": {
     "name": "#%%\n"
    }
   },
   "outputs": [
    {
     "data": {
      "text/plain": [
       "10"
      ]
     },
     "execution_count": 75,
     "metadata": {},
     "output_type": "execute_result"
    }
   ],
   "source": [
    "tuple[0]"
   ]
  },
  {
   "cell_type": "markdown",
   "source": [
    "**Sets** (mathematisch: Mengen) haben eine feste Länge und keine Reihenfolge (automatisch sortiert)."
   ],
   "metadata": {
    "collapsed": false,
    "pycharm": {
     "name": "#%% md\n"
    }
   }
  },
  {
   "cell_type": "code",
   "execution_count": 76,
   "metadata": {
    "pycharm": {
     "name": "#%%\n"
    }
   },
   "outputs": [],
   "source": [
    "s = {9, 10, 3}"
   ]
  },
  {
   "cell_type": "code",
   "execution_count": 77,
   "metadata": {
    "pycharm": {
     "name": "#%%\n"
    }
   },
   "outputs": [
    {
     "data": {
      "text/plain": [
       "{3, 9, 10}"
      ]
     },
     "execution_count": 77,
     "metadata": {},
     "output_type": "execute_result"
    }
   ],
   "source": [
    "s"
   ]
  },
  {
   "cell_type": "code",
   "execution_count": 78,
   "metadata": {
    "pycharm": {
     "name": "#%%\n"
    }
   },
   "outputs": [
    {
     "data": {
      "text/plain": [
       "3"
      ]
     },
     "execution_count": 78,
     "metadata": {},
     "output_type": "execute_result"
    }
   ],
   "source": [
    "len(s)"
   ]
  },
  {
   "cell_type": "markdown",
   "source": [
    "**Dicts** (Dictionaries) bestehen aus Keys (Schlüssel-Werten) und Values. Über einen Key erhält man Zugriff auf einen Value. Die Anzahl der Schlüssel-Wert-Paare ist veränderlich."
   ],
   "metadata": {
    "collapsed": false,
    "pycharm": {
     "name": "#%% md\n"
    }
   }
  },
  {
   "cell_type": "code",
   "execution_count": 84,
   "metadata": {
    "pycharm": {
     "name": "#%%\n"
    }
   },
   "outputs": [],
   "source": [
    "mydict = {\n",
    "    \"Vorname\": \"Jannik\",\n",
    "    \"Nachname\": \"Wiese\",\n",
    "}"
   ]
  },
  {
   "cell_type": "code",
   "execution_count": 85,
   "metadata": {
    "pycharm": {
     "name": "#%%\n"
    }
   },
   "outputs": [
    {
     "data": {
      "text/plain": [
       "{'Vorname': 'Jannik', 'Nachname': 'Wiese'}"
      ]
     },
     "execution_count": 85,
     "metadata": {},
     "output_type": "execute_result"
    }
   ],
   "source": [
    "mydict"
   ]
  },
  {
   "cell_type": "code",
   "execution_count": 87,
   "metadata": {
    "pycharm": {
     "name": "#%%\n"
    }
   },
   "outputs": [
    {
     "data": {
      "text/plain": [
       "'Wiese'"
      ]
     },
     "execution_count": 87,
     "metadata": {},
     "output_type": "execute_result"
    }
   ],
   "source": [
    "mydict[\"Nachname\"]"
   ]
  },
  {
   "cell_type": "code",
   "execution_count": 88,
   "metadata": {
    "pycharm": {
     "name": "#%%\n"
    }
   },
   "outputs": [
    {
     "data": {
      "text/plain": [
       "2"
      ]
     },
     "execution_count": 88,
     "metadata": {},
     "output_type": "execute_result"
    }
   ],
   "source": [
    "len(mydict)"
   ]
  },
  {
   "cell_type": "code",
   "execution_count": 89,
   "metadata": {
    "pycharm": {
     "name": "#%%\n"
    }
   },
   "outputs": [],
   "source": [
    "mydict[\"Alter\"] = 22"
   ]
  },
  {
   "cell_type": "code",
   "execution_count": 90,
   "metadata": {
    "pycharm": {
     "name": "#%%\n"
    }
   },
   "outputs": [
    {
     "data": {
      "text/plain": [
       "{'Vorname': 'Jannik', 'Nachname': 'Wiese', 'Alter': 22}"
      ]
     },
     "execution_count": 90,
     "metadata": {},
     "output_type": "execute_result"
    }
   ],
   "source": [
    "mydict"
   ]
  },
  {
   "cell_type": "code",
   "execution_count": 91,
   "metadata": {
    "pycharm": {
     "name": "#%%\n"
    }
   },
   "outputs": [
    {
     "data": {
      "text/plain": [
       "22"
      ]
     },
     "execution_count": 91,
     "metadata": {},
     "output_type": "execute_result"
    }
   ],
   "source": [
    "mydict.pop(\"Alter\")"
   ]
  },
  {
   "cell_type": "code",
   "execution_count": 92,
   "metadata": {
    "pycharm": {
     "name": "#%%\n"
    }
   },
   "outputs": [
    {
     "data": {
      "text/plain": [
       "{'Vorname': 'Jannik', 'Nachname': 'Wiese'}"
      ]
     },
     "execution_count": 92,
     "metadata": {},
     "output_type": "execute_result"
    }
   ],
   "source": [
    "mydict"
   ]
  },
  {
   "cell_type": "markdown",
   "source": [
    "Mit Hilfe von **if-Bedingungen** lassen sich Verzweigungen im Programmablauf umsetzen. Einen Alternativen Pfad kann man über **elif** (else if) festlegen, einen default-Weg über **else**."
   ],
   "metadata": {
    "collapsed": false,
    "pycharm": {
     "name": "#%% md\n"
    }
   }
  },
  {
   "cell_type": "code",
   "execution_count": 104,
   "metadata": {
    "pycharm": {
     "name": "#%%\n"
    }
   },
   "outputs": [],
   "source": [
    "x = 4"
   ]
  },
  {
   "cell_type": "code",
   "execution_count": 102,
   "metadata": {
    "pycharm": {
     "name": "#%%\n"
    }
   },
   "outputs": [
    {
     "name": "stdout",
     "output_type": "stream",
     "text": [
      "11 ist eine große Zahl\n"
     ]
    }
   ],
   "source": [
    "if x > 9:\n",
    "    print(f'{x} ist eine große Zahl')\n",
    "elif x == 9:\n",
    "    print('Ist 9')\n",
    "else:\n",
    "    print('Kleine Zahl')"
   ]
  },
  {
   "cell_type": "markdown",
   "source": [
    "Mit einer **while-Schleife** wird ein Codeabschnitt solange wiederholt, bis eine Bedingung nicht mehr erfüllt ist.\n",
    "**Protipp 1:** Auch zu while-Schleifen lässt sich ein else-Block definieren, der ausgeführt wird, sobald die Bedingung nicht mehr erfülllt ist.\n",
    "**Protipp 2:** Mit `break` lässt sich die ganze Schleife abbrechen (dann wird *kein* else-Block ausgeführt), mit `continue` wird zum nächsten Schleifendurchgang gesprungen."
   ],
   "metadata": {
    "collapsed": false,
    "pycharm": {
     "name": "#%% md\n"
    }
   }
  },
  {
   "cell_type": "code",
   "execution_count": 105,
   "metadata": {
    "pycharm": {
     "name": "#%%\n"
    }
   },
   "outputs": [
    {
     "name": "stdout",
     "output_type": "stream",
     "text": [
      "Immer noch eine kleine Zahl\n",
      "Immer noch eine kleine Zahl\n",
      "Immer noch eine kleine Zahl\n",
      "Immer noch eine kleine Zahl\n",
      "Immer noch eine kleine Zahl\n",
      "Immer noch eine kleine Zahl\n"
     ]
    }
   ],
   "source": [
    "while x < 10:\n",
    "    print('Immer noch eine kleine Zahl')\n",
    "    x += 1"
   ]
  },
  {
   "cell_type": "markdown",
   "source": [
    "Mit einer **for-Schleife** lässt sich einmal über jedes Element in einer Sammlung interieren. Dabei wird i einmal jeder Wert von x zugewiesen, d.h. im ersten Durchgang ist i == 9, im zweiten i == 8 und im dritten i == 10.\n",
    "Will man eine for-Schleife bei der i nach oben gezählt wird (wie in anderen Programmiersprachen) kann man `range` verwenden."
   ],
   "metadata": {
    "collapsed": false,
    "pycharm": {
     "name": "#%% md\n"
    }
   }
  },
  {
   "cell_type": "code",
   "execution_count": 106,
   "metadata": {
    "pycharm": {
     "name": "#%%\n"
    }
   },
   "outputs": [
    {
     "name": "stdout",
     "output_type": "stream",
     "text": [
      "9\n",
      "8\n",
      "10\n"
     ]
    }
   ],
   "source": [
    "x = [9, 8, 10]\n",
    "for i in x:\n",
    "    print(i)"
   ]
  },
  {
   "cell_type": "code",
   "execution_count": 107,
   "metadata": {
    "pycharm": {
     "name": "#%%\n"
    }
   },
   "outputs": [
    {
     "name": "stdout",
     "output_type": "stream",
     "text": [
      "0\n",
      "1\n",
      "2\n",
      "3\n",
      "4\n",
      "5\n",
      "6\n",
      "7\n",
      "8\n",
      "9\n"
     ]
    }
   ],
   "source": [
    "# for(int i = 0; i < 10; i++)\n",
    "for i in range(10):\n",
    "    print(i)"
   ]
  },
  {
   "cell_type": "markdown",
   "source": [
    "**Funktionen** werden mit dem def Schlüsselwort eingeleitet. Einer Funktion können Parameterübergeben werden, die auch Default-Werte haben können. Nach dem Funktionskopf folgt ein :. Funktionen können durch den Funktionsnamen und runde Klamemrn aufgerufen werden."
   ],
   "metadata": {
    "collapsed": false,
    "pycharm": {
     "name": "#%% md\n"
    }
   }
  },
  {
   "cell_type": "code",
   "execution_count": 117,
   "metadata": {
    "pycharm": {
     "name": "#%%\n"
    }
   },
   "outputs": [],
   "source": [
    "def print_name(name='Jannik'):\n",
    "    print(name)"
   ]
  },
  {
   "cell_type": "code",
   "execution_count": 118,
   "metadata": {
    "pycharm": {
     "name": "#%%\n"
    }
   },
   "outputs": [
    {
     "name": "stdout",
     "output_type": "stream",
     "text": [
      "Jannik\n"
     ]
    }
   ],
   "source": [
    "print_name()"
   ]
  },
  {
   "cell_type": "code",
   "execution_count": 119,
   "metadata": {
    "pycharm": {
     "name": "#%%\n"
    }
   },
   "outputs": [
    {
     "name": "stdout",
     "output_type": "stream",
     "text": [
      "Tobias\n"
     ]
    }
   ],
   "source": [
    "print_name('Tobias')"
   ]
  },
  {
   "cell_type": "markdown",
   "source": [
    "**Klassen** werden über das `class`-Schlüsselwort eingeleitet. Darauf folgt der Name der Klasse und eventuell in Klammern die Klasse von der geerbt werden soll. Der **Konstruktor** heißt in Python `__init__`, dieser wird ausgeführt, wenn eine Variable angelegt wird, der ein Objekt der Klasse zugewiesen wird. Klassen sind als \"Baupläne für Objekte\" zu verstehen. Objekte sind \"konkrete Exemplare dieser Klasse\". Klassen können Attribute/Eigenschaften haben, die über das self-Schlüsselwort zur Verfügung stehen. Klassen können Methoden haben, die wie Funktionen in der Klasse definiert werden aber self übergeben bekommen müssen."
   ],
   "metadata": {
    "collapsed": false,
    "pycharm": {
     "name": "#%% md\n"
    }
   }
  },
  {
   "cell_type": "code",
   "execution_count": 128,
   "metadata": {
    "pycharm": {
     "name": "#%%\n"
    }
   },
   "outputs": [],
   "source": [
    "class MyClass:\n",
    "    \n",
    "    def __init__(self, x):\n",
    "        self.x = x\n",
    "        \n",
    "    def print_value(self):\n",
    "        print(f'My x = {self.x}')"
   ]
  },
  {
   "cell_type": "code",
   "execution_count": 129,
   "metadata": {
    "pycharm": {
     "name": "#%%\n"
    }
   },
   "outputs": [],
   "source": [
    "myObject = MyClass(5)"
   ]
  },
  {
   "cell_type": "code",
   "execution_count": 130,
   "metadata": {
    "pycharm": {
     "name": "#%%\n"
    }
   },
   "outputs": [
    {
     "name": "stdout",
     "output_type": "stream",
     "text": [
      "My x = 5\n"
     ]
    }
   ],
   "source": [
    "myObject.print_value()"
   ]
  },
  {
   "cell_type": "code",
   "execution_count": 126,
   "metadata": {
    "pycharm": {
     "name": "#%%\n"
    }
   },
   "outputs": [],
   "source": [
    "myObject2 = MyClass(6)"
   ]
  },
  {
   "cell_type": "code",
   "execution_count": 127,
   "metadata": {
    "pycharm": {
     "name": "#%%\n"
    }
   },
   "outputs": [
    {
     "data": {
      "text/plain": [
       "6"
      ]
     },
     "execution_count": 127,
     "metadata": {},
     "output_type": "execute_result"
    }
   ],
   "source": [
    "myObject2.x"
   ]
  },
  {
   "cell_type": "markdown",
   "source": [
    "Andere Programm-Bibliotheken können über das `import`-Schlüsselwort importiert werden. So muss das Rad nicht neu erfunden werden. Mit `as` können diesen Biobliotheken Pseudonyme gegeben werden. Eine wichtige Bibliothek ist z.B. random"
   ],
   "metadata": {
    "collapsed": false,
    "pycharm": {
     "name": "#%% md\n"
    }
   }
  },
  {
   "cell_type": "code",
   "execution_count": 131,
   "metadata": {
    "pycharm": {
     "name": "#%%\n"
    }
   },
   "outputs": [],
   "source": [
    "import random as rand"
   ]
  },
  {
   "cell_type": "code",
   "execution_count": 141,
   "metadata": {
    "pycharm": {
     "name": "#%%\n"
    }
   },
   "outputs": [
    {
     "data": {
      "text/plain": [
       "3"
      ]
     },
     "execution_count": 141,
     "metadata": {},
     "output_type": "execute_result"
    }
   ],
   "source": [
    "x = rand.randint(1, 10)\n",
    "x"
   ]
  },
  {
   "cell_type": "code",
   "execution_count": 148,
   "metadata": {
    "pycharm": {
     "name": "#%%\n"
    }
   },
   "outputs": [
    {
     "data": {
      "text/plain": [
       "'hund'"
      ]
     },
     "execution_count": 148,
     "metadata": {},
     "output_type": "execute_result"
    }
   ],
   "source": [
    "dinge = ['katze', 'hund', 'maus']\n",
    "rand.choice(dinge)"
   ]
  },
  {
   "cell_type": "markdown",
   "metadata": {
    "pycharm": {
     "name": "#%% md\n"
    }
   },
   "source": [
    "# Hangman"
   ]
  },
  {
   "cell_type": "markdown",
   "source": [
    "Zu Beginn wird eine Liste an möglichen Wörtern erstellt. Hier einfach per Copy&Paste, was nicht optimal aber dafür einfach ist."
   ],
   "metadata": {
    "collapsed": false,
    "pycharm": {
     "name": "#%% md\n"
    }
   }
  },
  {
   "cell_type": "code",
   "execution_count": 1,
   "metadata": {
    "pycharm": {
     "name": "#%%\n"
    }
   },
   "outputs": [],
   "source": [
    "words = [\"aback\",\"abaft\",\"abandoned\",\"abashed\",\"aberrant\",\"abhorrent\",\"abiding\",\"abject\",\"ablaze\",\"able\",\"abnormal\",\"aboard\",\"aboriginal\",\"abortive\",\"abounding\",\"abrasive\",\"abrupt\",\"absent\",\"absorbed\",\"absorbing\",\"abstracted\",\"absurd\",\"abundant\",\"abusive\",\"accept\",\"acceptable\",\"accessible\",\"accidental\",\"account\",\"accurate\",\"achiever\",\"acid\",\"acidic\",\"acoustic\",\"acoustics\",\"acrid\",\"act\",\"action\",\"activity\",\"actor\",\"actually\",\"ad hoc\",\"adamant\",\"adaptable\",\"add\",\"addicted\",\"addition\",\"adhesive\",\"adjoining\",\"adjustment\",\"admire\",\"admit\",\"adorable\",\"adventurous\",\"advertisement\",\"advice\",\"advise\",\"afford\",\"afraid\",\"aftermath\",\"afternoon\",\"afterthought\",\"aggressive\",\"agonizing\",\"agree\",\"agreeable\",\"agreement\",\"ahead\",\"air\",\"airplane\",\"airport\",\"ajar\",\"alarm\",\"alcoholic\",\"alert\",\"alike\",\"alive\",\"alleged\",\"allow\",\"alluring\",\"aloof\",\"amazing\",\"ambiguous\",\"ambitious\",\"amount\",\"amuck\",\"amuse\",\"amused\",\"amusement\",\"amusing\",\"analyze\",\"ancient\",\"anger\",\"angle\",\"angry\",\"animal\",\"animated\",\"announce\",\"annoy\",\"annoyed\",\"annoying\",\"answer\",\"ants\",\"anxious\",\"apathetic\",\"apologise\",\"apparatus\",\"apparel\",\"appear\",\"applaud\",\"appliance\",\"appreciate\",\"approval\",\"approve\",\"aquatic\",\"arch\",\"argue\",\"argument\",\"arithmetic\",\"arm\",\"army\",\"aromatic\",\"arrange\",\"arrest\",\"arrive\",\"arrogant\",\"art\",\"ashamed\",\"ask\",\"aspiring\",\"assorted\",\"astonishing\",\"attach\",\"attack\",\"attempt\",\"attend\",\"attract\",\"attraction\",\"attractive\",\"aunt\",\"auspicious\",\"authority\",\"automatic\",\"available\",\"average\",\"avoid\",\"awake\",\"aware\",\"awesome\",\"awful\",\"axiomatic\",\"babies\",\"baby\",\"back\",\"bad\",\"badge\",\"bag\",\"bait\",\"bake\",\"balance\",\"ball\",\"ban\",\"bang\",\"barbarous\",\"bare\",\"base\",\"baseball\",\"bashful\",\"basin\",\"basket\",\"basketball\",\"bat\",\"bath\",\"bathe\",\"battle\",\"bawdy\",\"bead\",\"beam\",\"bear\",\"beautiful\",\"bed\",\"bedroom\",\"beds\",\"bee\",\"beef\",\"befitting\",\"beg\",\"beginner\",\"behave\",\"behavior\",\"belief\",\"believe\",\"bell\",\"belligerent\",\"bells\",\"belong\",\"beneficial\",\"bent\",\"berry\",\"berserk\",\"best\",\"better\",\"bewildered\",\"big\",\"bike\",\"bikes\",\"billowy\",\"bird\",\"birds\",\"birth\",\"birthday\",\"bit\",\"bite\",\"bite-sized\",\"bitter\",\"bizarre\",\"black\",\"black-and-white\",\"blade\",\"bleach\",\"bless\",\"blind\",\"blink\",\"blood\",\"bloody\",\"blot\",\"blow\",\"blue\",\"blue-eyed\",\"blush\",\"blushing\",\"board\",\"boast\",\"boat\",\"boil\",\"boiling\",\"bolt\",\"bomb\",\"bone\",\"book\",\"books\",\"boorish\",\"boot\",\"border\",\"bore\",\"bored\",\"boring\",\"borrow\",\"bottle\",\"bounce\",\"bouncy\",\"boundary\",\"boundless\",\"bow\",\"box\",\"boy\",\"brainy\",\"brake\",\"branch\",\"brash\",\"brass\",\"brave\",\"brawny\",\"breakable\",\"breath\",\"breathe\",\"breezy\",\"brick\",\"bridge\",\"brief\",\"bright\",\"broad\",\"broken\",\"brother\",\"brown\",\"bruise\",\"brush\",\"bubble\",\"bucket\",\"building\",\"bulb\",\"bump\",\"bumpy\",\"burly\",\"burn\",\"burst\",\"bury\",\"bushes\",\"business\",\"bustling\",\"busy\",\"butter\",\"button\",\"buzz\",\"cabbage\",\"cable\",\"cactus\",\"cagey\",\"cake\",\"cakes\",\"calculate\",\"calculating\",\"calculator\",\"calendar\",\"call\",\"callous\",\"calm\",\"camera\",\"camp\",\"can\",\"cannon\",\"canvas\",\"cap\",\"capable\",\"capricious\",\"caption\",\"car\",\"card\",\"care\",\"careful\",\"careless\",\"caring\",\"carpenter\",\"carriage\",\"carry\",\"cars\",\"cart\",\"carve\",\"cast\",\"cat\",\"cats\",\"cattle\",\"cause\",\"cautious\",\"cave\",\"ceaseless\",\"celery\",\"cellar\",\"cemetery\",\"cent\",\"certain\",\"chalk\",\"challenge\",\"chance\",\"change\",\"changeable\",\"channel\",\"charge\",\"charming\",\"chase\",\"cheap\",\"cheat\",\"check\",\"cheer\",\"cheerful\",\"cheese\",\"chemical\",\"cherries\",\"cherry\",\"chess\",\"chew\",\"chicken\",\"chickens\",\"chief\",\"childlike\",\"children\",\"chilly\",\"chin\",\"chivalrous\",\"choke\",\"chop\",\"chubby\",\"chunky\",\"church\",\"circle\",\"claim\",\"clam\",\"clammy\",\"clap\",\"class\",\"classy\",\"clean\",\"clear\",\"clever\",\"clip\",\"cloistered\",\"close\",\"closed\",\"cloth\",\"cloudy\",\"clover\",\"club\",\"clumsy\",\"cluttered\",\"coach\",\"coal\",\"coast\",\"coat\",\"cobweb\",\"coherent\",\"coil\",\"cold\",\"collar\",\"collect\",\"color\",\"colorful\",\"colossal\",\"colour\",\"comb\",\"combative\",\"comfortable\",\"command\",\"committee\",\"common\",\"communicate\",\"company\",\"compare\",\"comparison\",\"compete\",\"competition\",\"complain\",\"complete\",\"complex\",\"concentrate\",\"concern\",\"concerned\",\"condemned\",\"condition\",\"confess\",\"confuse\",\"confused\",\"connect\",\"connection\",\"conscious\",\"consider\",\"consist\",\"contain\",\"continue\",\"control\",\"cooing\",\"cook\",\"cool\",\"cooperative\",\"coordinated\",\"copper\",\"copy\",\"corn\",\"correct\",\"cough\",\"count\",\"country\",\"courageous\",\"cover\",\"cow\",\"cowardly\",\"cows\",\"crabby\",\"crack\",\"cracker\",\"crash\",\"crate\",\"craven\",\"crawl\",\"crayon\",\"crazy\",\"cream\",\"creator\",\"creature\",\"credit\",\"creepy\",\"crib\",\"crime\",\"crook\",\"crooked\",\"cross\",\"crow\",\"crowd\",\"crowded\",\"crown\",\"cruel\",\"crush\",\"cry\",\"cub\",\"cuddly\",\"cultured\",\"cumbersome\",\"cup\",\"cure\",\"curious\",\"curl\",\"curly\",\"current\",\"curtain\",\"curve\",\"curved\",\"curvy\",\"cushion\",\"cut\",\"cute\",\"cycle\",\"cynical\",\"dad\",\"daffy\",\"daily\",\"dam\",\"damage\",\"damaged\",\"damaging\",\"damp\",\"dance\",\"dangerous\",\"dapper\",\"dare\",\"dark\",\"dashing\",\"daughter\",\"day\",\"dazzling\",\"dead\",\"deadpan\",\"deafening\",\"dear\",\"death\",\"debonair\",\"debt\",\"decay\",\"deceive\",\"decide\",\"decision\",\"decisive\",\"decorate\",\"decorous\",\"deep\",\"deeply\",\"deer\",\"defeated\",\"defective\",\"defiant\",\"degree\",\"delay\",\"delicate\",\"delicious\",\"delight\",\"delightful\",\"delirious\",\"deliver\",\"demonic\",\"depend\",\"dependent\",\"depressed\",\"deranged\",\"describe\",\"descriptive\",\"desert\",\"deserted\",\"deserve\",\"design\",\"desire\",\"desk\",\"destroy\",\"destruction\",\"detail\",\"detailed\",\"detect\",\"determined\",\"develop\",\"development\",\"devilish\",\"didactic\",\"different\",\"difficult\",\"digestion\",\"diligent\",\"dime\",\"dinner\",\"dinosaurs\",\"direction\",\"direful\",\"dirt\",\"dirty\",\"disagree\",\"disagreeable\",\"disappear\",\"disapprove\",\"disarm\",\"disastrous\",\"discover\",\"discovery\",\"discreet\",\"discussion\",\"disgusted\",\"disgusting\",\"disillusioned\",\"dislike\",\"dispensable\",\"distance\",\"distinct\",\"distribution\",\"disturbed\",\"divergent\",\"divide\",\"division\",\"dizzy\",\"dock\",\"doctor\",\"dog\",\"dogs\",\"doll\",\"dolls\",\"domineering\",\"donkey\",\"door\",\"double\",\"doubt\",\"doubtful\",\"downtown\",\"drab\",\"draconian\",\"drag\",\"drain\",\"dramatic\",\"drawer\",\"dream\",\"dreary\",\"dress\",\"drink\",\"drip\",\"driving\",\"drop\",\"drown\",\"drum\",\"drunk\",\"dry\",\"duck\",\"ducks\",\"dull\",\"dust\",\"dusty\",\"dynamic\",\"dysfunctional\",\"eager\",\"ear\",\"early\",\"earn\",\"earsplitting\",\"earth\",\"earthquake\",\"earthy\",\"easy\",\"eatable\",\"economic\",\"edge\",\"educate\",\"educated\",\"education\",\"effect\",\"efficacious\",\"efficient\",\"egg\",\"eggnog\",\"eggs\",\"eight\",\"elastic\",\"elated\",\"elbow\",\"elderly\",\"electric\",\"elegant\",\"elfin\",\"elite\",\"embarrass\",\"embarrassed\",\"eminent\",\"employ\",\"empty\",\"enchanted\",\"enchanting\",\"encourage\",\"encouraging\",\"end\",\"endurable\",\"energetic\",\"engine\",\"enjoy\",\"enormous\",\"enter\",\"entertain\",\"entertaining\",\"enthusiastic\",\"envious\",\"equable\",\"equal\",\"erect\",\"erratic\",\"error\",\"escape\",\"ethereal\",\"evanescent\",\"evasive\",\"even\",\"event\",\"examine\",\"example\",\"excellent\",\"exchange\",\"excite\",\"excited\",\"exciting\",\"exclusive\",\"excuse\",\"exercise\",\"exist\",\"existence\",\"exotic\",\"expand\",\"expansion\",\"expect\",\"expensive\",\"experience\",\"expert\",\"explain\",\"explode\",\"extend\",\"extra-large\",\"extra-small\",\"exuberant\",\"exultant\",\"eye\",\"eyes\",\"fabulous\",\"face\",\"fact\",\"fade\",\"faded\",\"fail\",\"faint\",\"fair\",\"fairies\",\"faithful\",\"fall\",\"fallacious\",\"false\",\"familiar\",\"famous\",\"fanatical\",\"fancy\",\"fang\",\"fantastic\",\"far\",\"far-flung\",\"farm\",\"fascinated\",\"fast\",\"fasten\",\"fat\",\"faulty\",\"fax\",\"fear\",\"fearful\",\"fearless\",\"feeble\",\"feeling\",\"feigned\",\"female\",\"fence\",\"fertile\",\"festive\",\"fetch\",\"few\",\"field\",\"fierce\",\"file\",\"fill\",\"film\",\"filthy\",\"fine\",\"finger\",\"finicky\",\"fire\",\"fireman\",\"first\",\"fish\",\"fit\",\"five\",\"fix\",\"fixed\",\"flag\",\"flagrant\",\"flaky\",\"flame\",\"flap\",\"flash\",\"flashy\",\"flat\",\"flavor\",\"flawless\",\"flesh\",\"flight\",\"flimsy\",\"flippant\",\"float\",\"flock\",\"flood\",\"floor\",\"flow\",\"flower\",\"flowers\",\"flowery\",\"fluffy\",\"fluttering\",\"fly\",\"foamy\",\"fog\",\"fold\",\"follow\",\"food\",\"fool\",\"foolish\",\"foot\",\"force\",\"foregoing\",\"forgetful\",\"fork\",\"form\",\"fortunate\",\"found\",\"four\",\"fowl\",\"fragile\",\"frail\",\"frame\",\"frantic\",\"free\",\"freezing\",\"frequent\",\"fresh\",\"fretful\",\"friction\",\"friend\",\"friendly\",\"friends\",\"frighten\",\"frightened\",\"frightening\",\"frog\",\"frogs\",\"front\",\"fruit\",\"fry\",\"fuel\",\"full\",\"fumbling\",\"functional\",\"funny\",\"furniture\",\"furry\",\"furtive\",\"future\",\"futuristic\",\"fuzzy\",\"gabby\",\"gainful\",\"gamy\",\"gaping\",\"garrulous\",\"gate\",\"gather\",\"gaudy\",\"gaze\",\"geese\",\"general\",\"gentle\",\"ghost\",\"giant\",\"giants\",\"giddy\",\"gifted\",\"gigantic\",\"giraffe\",\"girl\",\"girls\",\"glamorous\",\"glass\",\"gleaming\",\"glib\",\"glistening\",\"glorious\",\"glossy\",\"glove\",\"glow\",\"glue\",\"godly\",\"gold\",\"good\",\"goofy\",\"gorgeous\",\"government\",\"governor\",\"grab\",\"graceful\",\"grade\",\"grain\",\"grandfather\",\"grandiose\",\"grandmother\",\"grape\",\"grass\",\"grate\",\"grateful\",\"gratis\",\"gray\",\"grease\",\"greasy\",\"great\",\"greedy\",\"green\",\"greet\",\"grey\",\"grieving\",\"grin\",\"grip\",\"groan\",\"groovy\",\"grotesque\",\"grouchy\",\"ground\",\"group\",\"growth\",\"grubby\",\"gruesome\",\"grumpy\",\"guarantee\",\"guard\",\"guarded\",\"guess\",\"guide\",\"guiltless\",\"guitar\",\"gullible\",\"gun\",\"gusty\",\"guttural\",\"habitual\",\"hair\",\"haircut\",\"half\",\"hall\",\"hallowed\",\"halting\",\"hammer\",\"hand\",\"handle\",\"hands\",\"handsome\",\"handsomely\",\"handy\",\"hang\",\"hanging\",\"hapless\",\"happen\",\"happy\",\"harass\",\"harbor\",\"hard\",\"hard-to-find\",\"harm\",\"harmonious\",\"harmony\",\"harsh\",\"hat\",\"hate\",\"hateful\",\"haunt\",\"head\",\"heady\",\"heal\",\"health\",\"healthy\",\"heap\",\"heartbreaking\",\"heat\",\"heavenly\",\"heavy\",\"hellish\",\"help\",\"helpful\",\"helpless\",\"hesitant\",\"hideous\",\"high\",\"high-pitched\",\"highfalutin\",\"hilarious\",\"hill\",\"hissing\",\"historical\",\"history\",\"hobbies\",\"hole\",\"holiday\",\"holistic\",\"hollow\",\"home\",\"homeless\",\"homely\",\"honey\",\"honorable\",\"hook\",\"hop\",\"hope\",\"horn\",\"horrible\",\"horse\",\"horses\",\"hose\",\"hospitable\",\"hospital\",\"hot\",\"hour\",\"house\",\"houses\",\"hover\",\"hug\",\"huge\",\"hulking\",\"hum\",\"humdrum\",\"humor\",\"humorous\",\"hungry\",\"hunt\",\"hurried\",\"hurry\",\"hurt\",\"hushed\",\"husky\",\"hydrant\",\"hypnotic\",\"hysterical\",\"ice\",\"icicle\",\"icky\",\"icy\",\"idea\",\"identify\",\"idiotic\",\"ignorant\",\"ignore\",\"ill\",\"ill-fated\",\"ill-informed\",\"illegal\",\"illustrious\",\"imaginary\",\"imagine\",\"immense\",\"imminent\",\"impartial\",\"imperfect\",\"impolite\",\"important\",\"imported\",\"impossible\",\"impress\",\"improve\",\"impulse\",\"incandescent\",\"include\",\"income\",\"incompetent\",\"inconclusive\",\"increase\",\"incredible\",\"industrious\",\"industry\",\"inexpensive\",\"infamous\",\"influence\",\"inform\",\"inject\",\"injure\",\"ink\",\"innate\",\"innocent\",\"inquisitive\",\"insect\",\"insidious\",\"instinctive\",\"instruct\",\"instrument\",\"insurance\",\"intelligent\",\"intend\",\"interest\",\"interesting\",\"interfere\",\"internal\",\"interrupt\",\"introduce\",\"invent\",\"invention\",\"invincible\",\"invite\",\"irate\",\"iron\",\"irritate\",\"irritating\",\"island\",\"itch\",\"itchy\",\"jaded\",\"jagged\",\"jail\",\"jam\",\"jar\",\"jazzy\",\"jealous\",\"jeans\",\"jelly\",\"jellyfish\",\"jewel\",\"jittery\",\"jobless\",\"jog\",\"join\",\"joke\",\"jolly\",\"joyous\",\"judge\",\"judicious\",\"juggle\",\"juice\",\"juicy\",\"jumbled\",\"jump\",\"jumpy\",\"juvenile\",\"kaput\",\"keen\",\"kettle\",\"key\",\"kick\",\"kill\",\"kind\",\"kindhearted\",\"kindly\",\"kiss\",\"kittens\",\"kitty\",\"knee\",\"kneel\",\"knife\",\"knit\",\"knock\",\"knot\",\"knotty\",\"knowing\",\"knowledge\",\"knowledgeable\",\"known\",\"label\",\"labored\",\"laborer\",\"lace\",\"lackadaisical\",\"lacking\",\"ladybug\",\"lake\",\"lame\",\"lamentable\",\"lamp\",\"land\",\"language\",\"languid\",\"large\",\"last\",\"late\",\"laugh\",\"laughable\",\"launch\",\"lavish\",\"lazy\",\"lean\",\"learn\",\"learned\",\"leather\",\"left\",\"leg\",\"legal\",\"legs\",\"lethal\",\"letter\",\"letters\",\"lettuce\",\"level\",\"lewd\",\"library\",\"license\",\"lick\",\"lie\",\"light\",\"lighten\",\"like\",\"likeable\",\"limit\",\"limping\",\"line\",\"linen\",\"lip\",\"liquid\",\"list\",\"listen\",\"literate\",\"little\",\"live\",\"lively\",\"living\",\"load\",\"loaf\",\"lock\",\"locket\",\"lonely\",\"long\",\"long-term\",\"longing\",\"look\",\"loose\",\"lopsided\",\"loss\",\"loud\",\"loutish\",\"love\",\"lovely\",\"loving\",\"low\",\"lowly\",\"lucky\",\"ludicrous\",\"lumber\",\"lumpy\",\"lunch\",\"lunchroom\",\"lush\",\"luxuriant\",\"lying\",\"lyrical\",\"macabre\",\"machine\",\"macho\",\"maddening\",\"madly\",\"magenta\",\"magic\",\"magical\",\"magnificent\",\"maid\",\"mailbox\",\"majestic\",\"makeshift\",\"male\",\"malicious\",\"mammoth\",\"man\",\"manage\",\"maniacal\",\"many\",\"marble\",\"march\",\"mark\",\"marked\",\"market\",\"married\",\"marry\",\"marvelous\",\"mask\",\"mass\",\"massive\",\"match\",\"mate\",\"material\",\"materialistic\",\"matter\",\"mature\",\"meal\",\"mean\",\"measly\",\"measure\",\"meat\",\"meaty\",\"meddle\",\"medical\",\"meek\",\"meeting\",\"mellow\",\"melodic\",\"melt\",\"melted\",\"memorize\",\"memory\",\"men\",\"mend\",\"merciful\",\"mere\",\"mess up\",\"messy\",\"metal\",\"mice\",\"middle\",\"mighty\",\"military\",\"milk\",\"milky\",\"mind\",\"mindless\",\"mine\",\"miniature\",\"minister\",\"minor\",\"mint\",\"minute\",\"miscreant\",\"miss\",\"mist\",\"misty\",\"mitten\",\"mix\",\"mixed\",\"moan\",\"moaning\",\"modern\",\"moldy\",\"mom\",\"momentous\",\"money\",\"monkey\",\"month\",\"moon\",\"moor\",\"morning\",\"mother\",\"motion\",\"motionless\",\"mountain\",\"mountainous\",\"mourn\",\"mouth\",\"move\",\"muddle\",\"muddled\",\"mug\",\"multiply\",\"mundane\",\"murder\",\"murky\",\"muscle\",\"mushy\",\"mute\",\"mysterious\",\"nail\",\"naive\",\"name\",\"nappy\",\"narrow\",\"nasty\",\"nation\",\"natural\",\"naughty\",\"nauseating\",\"near\",\"neat\",\"nebulous\",\"necessary\",\"neck\",\"need\",\"needle\",\"needless\",\"needy\",\"neighborly\",\"nerve\",\"nervous\",\"nest\",\"new\",\"next\",\"nice\",\"nifty\",\"night\",\"nimble\",\"nine\",\"nippy\",\"nod\",\"noise\",\"noiseless\",\"noisy\",\"nonchalant\",\"nondescript\",\"nonstop\",\"normal\",\"north\",\"nose\",\"nostalgic\",\"nosy\",\"note\",\"notebook\",\"notice\",\"noxious\",\"null\",\"number\",\"numberless\",\"numerous\",\"nut\",\"nutritious\",\"nutty\",\"oafish\",\"oatmeal\",\"obedient\",\"obeisant\",\"obese\",\"obey\",\"object\",\"obnoxious\",\"obscene\",\"obsequious\",\"observant\",\"observation\",\"observe\",\"obsolete\",\"obtain\",\"obtainable\",\"occur\",\"ocean\",\"oceanic\",\"odd\",\"offbeat\",\"offend\",\"offer\",\"office\",\"oil\",\"old\",\"old-fashioned\",\"omniscient\",\"one\",\"onerous\",\"open\",\"opposite\",\"optimal\",\"orange\",\"oranges\",\"order\",\"ordinary\",\"organic\",\"ossified\",\"outgoing\",\"outrageous\",\"outstanding\",\"oval\",\"oven\",\"overconfident\",\"overflow\",\"overjoyed\",\"overrated\",\"overt\",\"overwrought\",\"owe\",\"own\",\"pack\",\"paddle\",\"page\",\"pail\",\"painful\",\"painstaking\",\"paint\",\"pale\",\"paltry\",\"pan\",\"pancake\",\"panicky\",\"panoramic\",\"paper\",\"parallel\",\"parcel\",\"parched\",\"park\",\"parsimonious\",\"part\",\"partner\",\"party\",\"pass\",\"passenger\",\"past\",\"paste\",\"pastoral\",\"pat\",\"pathetic\",\"pause\",\"payment\",\"peace\",\"peaceful\",\"pear\",\"peck\",\"pedal\",\"peel\",\"peep\",\"pen\",\"pencil\",\"penitent\",\"perfect\",\"perform\",\"periodic\",\"permissible\",\"permit\",\"perpetual\",\"person\",\"pest\",\"pet\",\"petite\",\"pets\",\"phobic\",\"phone\",\"physical\",\"picayune\",\"pick\",\"pickle\",\"picture\",\"pie\",\"pies\",\"pig\",\"pigs\",\"pin\",\"pinch\",\"pine\",\"pink\",\"pipe\",\"piquant\",\"pizzas\",\"place\",\"placid\",\"plain\",\"plan\",\"plane\",\"planes\",\"plant\",\"plantation\",\"plants\",\"plastic\",\"plate\",\"plausible\",\"play\",\"playground\",\"pleasant\",\"please\",\"pleasure\",\"plot\",\"plough\",\"plucky\",\"plug\",\"pocket\",\"point\",\"pointless\",\"poised\",\"poison\",\"poke\",\"polish\",\"polite\",\"political\",\"pollution\",\"poor\",\"pop\",\"popcorn\",\"porter\",\"position\",\"possess\",\"possessive\",\"possible\",\"post\",\"pot\",\"potato\",\"pour\",\"powder\",\"power\",\"powerful\",\"practice\",\"pray\",\"preach\",\"precede\",\"precious\",\"prefer\",\"premium\",\"prepare\",\"present\",\"preserve\",\"press\",\"pretend\",\"pretty\",\"prevent\",\"previous\",\"price\",\"pricey\",\"prick\",\"prickly\",\"print\",\"private\",\"probable\",\"produce\",\"productive\",\"profit\",\"profuse\",\"program\",\"promise\",\"property\",\"prose\",\"protect\",\"protective\",\"protest\",\"proud\",\"provide\",\"psychedelic\",\"psychotic\",\"public\",\"puffy\",\"pull\",\"pump\",\"pumped\",\"punch\",\"puncture\",\"punish\",\"punishment\",\"puny\",\"purple\",\"purpose\",\"purring\",\"push\",\"pushy\",\"puzzled\",\"puzzling\",\"quack\",\"quaint\",\"quarrelsome\",\"quarter\",\"quartz\",\"queen\",\"question\",\"questionable\",\"queue\",\"quick\",\"quickest\",\"quicksand\",\"quiet\",\"quill\",\"quilt\",\"quince\",\"quirky\",\"quiver\",\"quixotic\",\"quizzical\",\"rabbit\",\"rabbits\",\"rabid\",\"race\",\"racial\",\"radiate\",\"ragged\",\"rail\",\"railway\",\"rain\",\"rainstorm\",\"rainy\",\"raise\",\"rake\",\"rambunctious\",\"rampant\",\"range\",\"rapid\",\"rare\",\"raspy\",\"rat\",\"rate\",\"ratty\",\"ray\",\"reach\",\"reaction\",\"reading\",\"ready\",\"real\",\"realize\",\"reason\",\"rebel\",\"receipt\",\"receive\",\"receptive\",\"recess\",\"recognise\",\"recondite\",\"record\",\"red\",\"reduce\",\"redundant\",\"reflect\",\"reflective\",\"refuse\",\"regret\",\"regular\",\"reign\",\"reject\",\"rejoice\",\"relation\",\"relax\",\"release\",\"relieved\",\"religion\",\"rely\",\"remain\",\"remarkable\",\"remember\",\"remind\",\"reminiscent\",\"remove\",\"repair\",\"repeat\",\"replace\",\"reply\",\"report\",\"representative\",\"reproduce\",\"repulsive\",\"request\",\"rescue\",\"resolute\",\"resonant\",\"respect\",\"responsible\",\"rest\",\"retire\",\"return\",\"reward\",\"rhetorical\",\"rhyme\",\"rhythm\",\"rice\",\"rich\",\"riddle\",\"rifle\",\"right\",\"righteous\",\"rightful\",\"rigid\",\"ring\",\"rings\",\"rinse\",\"ripe\",\"risk\",\"ritzy\",\"river\",\"road\",\"roasted\",\"rob\",\"robin\",\"robust\",\"rock\",\"rod\",\"roll\",\"romantic\",\"roof\",\"room\",\"roomy\",\"root\",\"rose\",\"rot\",\"rotten\",\"rough\",\"round\",\"route\",\"royal\",\"rub\",\"ruddy\",\"rude\",\"ruin\",\"rule\",\"run\",\"rural\",\"rush\",\"rustic\",\"ruthless\",\"sable\",\"sack\",\"sad\",\"safe\",\"sail\",\"salt\",\"salty\",\"same\",\"sand\",\"sassy\",\"satisfy\",\"satisfying\",\"save\",\"savory\",\"saw\",\"scale\",\"scandalous\",\"scarce\",\"scare\",\"scarecrow\",\"scared\",\"scarf\",\"scary\",\"scatter\",\"scattered\",\"scene\",\"scent\",\"school\",\"science\",\"scientific\",\"scintillating\",\"scissors\",\"scold\",\"scorch\",\"scrape\",\"scratch\",\"scrawny\",\"scream\",\"screeching\",\"screw\",\"scribble\",\"scrub\",\"sea\",\"seal\",\"search\",\"seashore\",\"seat\",\"second\",\"second-hand\",\"secret\",\"secretary\",\"secretive\",\"sedate\",\"seed\",\"seemly\",\"selection\",\"selective\",\"self\",\"selfish\",\"sense\",\"separate\",\"serious\",\"servant\",\"serve\",\"settle\",\"shade\",\"shaggy\",\"shake\",\"shaky\",\"shallow\",\"shame\",\"shape\",\"share\",\"sharp\",\"shave\",\"sheep\",\"sheet\",\"shelf\",\"shelter\",\"shiny\",\"ship\",\"shirt\",\"shiver\",\"shivering\",\"shock\",\"shocking\",\"shoe\",\"shoes\",\"shop\",\"short\",\"show\",\"shrill\",\"shrug\",\"shut\",\"shy\",\"sick\",\"side\",\"sidewalk\",\"sigh\",\"sign\",\"signal\",\"silent\",\"silk\",\"silky\",\"silly\",\"silver\",\"simple\",\"simplistic\",\"sin\",\"sincere\",\"sink\",\"sip\",\"sister\",\"sisters\",\"six\",\"size\",\"skate\",\"ski\",\"skillful\",\"skin\",\"skinny\",\"skip\",\"skirt\",\"sky\",\"slap\",\"slave\",\"sleep\",\"sleepy\",\"sleet\",\"slim\",\"slimy\",\"slip\",\"slippery\",\"slope\",\"sloppy\",\"slow\",\"small\",\"smart\",\"smash\",\"smell\",\"smelly\",\"smile\",\"smiling\",\"smoggy\",\"smoke\",\"smooth\",\"snail\",\"snails\",\"snake\",\"snakes\",\"snatch\",\"sneaky\",\"sneeze\",\"sniff\",\"snobbish\",\"snore\",\"snotty\",\"snow\",\"soak\",\"soap\",\"society\",\"sock\",\"soda\",\"sofa\",\"soft\",\"soggy\",\"solid\",\"somber\",\"son\",\"song\",\"songs\",\"soothe\",\"sophisticated\",\"sordid\",\"sore\",\"sort\",\"sound\",\"soup\",\"sour\",\"space\",\"spade\",\"spare\",\"spark\",\"sparkle\",\"sparkling\",\"special\",\"spectacular\",\"spell\",\"spicy\",\"spiders\",\"spiffy\",\"spiky\",\"spill\",\"spiritual\",\"spiteful\",\"splendid\",\"spoil\",\"sponge\",\"spooky\",\"spoon\",\"spot\",\"spotless\",\"spotted\",\"spotty\",\"spray\",\"spring\",\"sprout\",\"spurious\",\"spy\",\"squalid\",\"square\",\"squash\",\"squeak\",\"squeal\",\"squealing\",\"squeamish\",\"squeeze\",\"squirrel\",\"stage\",\"stain\",\"staking\",\"stale\",\"stamp\",\"standing\",\"star\",\"stare\",\"start\",\"statement\",\"station\",\"statuesque\",\"stay\",\"steadfast\",\"steady\",\"steam\",\"steel\",\"steep\",\"steer\",\"stem\",\"step\",\"stereotyped\",\"stew\",\"stick\",\"sticks\",\"sticky\",\"stiff\",\"stimulating\",\"stingy\",\"stir\",\"stitch\",\"stocking\",\"stomach\",\"stone\",\"stop\",\"store\",\"stormy\",\"story\",\"stove\",\"straight\",\"strange\",\"stranger\",\"strap\",\"straw\",\"stream\",\"street\",\"strengthen\",\"stretch\",\"string\",\"strip\",\"striped\",\"stroke\",\"strong\",\"structure\",\"stuff\",\"stupendous\",\"stupid\",\"sturdy\",\"subdued\",\"subsequent\",\"substance\",\"substantial\",\"subtract\",\"succeed\",\"successful\",\"succinct\",\"suck\",\"sudden\",\"suffer\",\"sugar\",\"suggest\",\"suggestion\",\"suit\",\"sulky\",\"summer\",\"sun\",\"super\",\"superb\",\"superficial\",\"supply\",\"support\",\"suppose\",\"supreme\",\"surprise\",\"surround\",\"suspect\",\"suspend\",\"swanky\",\"sweater\",\"sweet\",\"sweltering\",\"swift\",\"swim\",\"swing\",\"switch\",\"symptomatic\",\"synonymous\",\"system\",\"table\",\"taboo\",\"tacit\",\"tacky\",\"tail\",\"talented\",\"talk\",\"tall\",\"tame\",\"tan\",\"tangible\",\"tangy\",\"tank\",\"tap\",\"tart\",\"taste\",\"tasteful\",\"tasteless\",\"tasty\",\"tawdry\",\"tax\",\"teaching\",\"team\",\"tearful\",\"tease\",\"tedious\",\"teeny\",\"teeny-tiny\",\"teeth\",\"telephone\",\"telling\",\"temper\",\"temporary\",\"tempt\",\"ten\",\"tendency\",\"tender\",\"tense\",\"tent\",\"tenuous\",\"terrible\",\"terrific\",\"terrify\",\"territory\",\"test\",\"tested\",\"testy\",\"texture\",\"thank\",\"thankful\",\"thaw\",\"theory\",\"therapeutic\",\"thick\",\"thin\",\"thing\",\"things\",\"thinkable\",\"third\",\"thirsty\",\"thought\",\"thoughtful\",\"thoughtless\",\"thread\",\"threatening\",\"three\",\"thrill\",\"throat\",\"throne\",\"thumb\",\"thunder\",\"thundering\",\"tick\",\"ticket\",\"tickle\",\"tidy\",\"tie\",\"tiger\",\"tight\",\"tightfisted\",\"time\",\"tin\",\"tiny\",\"tip\",\"tire\",\"tired\",\"tiresome\",\"title\",\"toad\",\"toe\",\"toes\",\"tomatoes\",\"tongue\",\"tooth\",\"toothbrush\",\"toothpaste\",\"toothsome\",\"top\",\"torpid\",\"touch\",\"tough\",\"tour\",\"tow\",\"towering\",\"town\",\"toy\",\"toys\",\"trace\",\"trade\",\"trail\",\"train\",\"trains\",\"tramp\",\"tranquil\",\"transport\",\"trap\",\"trashy\",\"travel\",\"tray\",\"treat\",\"treatment\",\"tree\",\"trees\",\"tremble\",\"tremendous\",\"trick\",\"tricky\",\"trip\",\"trite\",\"trot\",\"trouble\",\"troubled\",\"trousers\",\"truck\",\"trucks\",\"truculent\",\"true\",\"trust\",\"truthful\",\"try\",\"tub\",\"tug\",\"tumble\",\"turkey\",\"turn\",\"twig\",\"twist\",\"two\",\"type\",\"typical\",\"ubiquitous\",\"ugliest\",\"ugly\",\"ultra\",\"umbrella\",\"unable\",\"unaccountable\",\"unadvised\",\"unarmed\",\"unbecoming\",\"unbiased\",\"uncle\",\"uncovered\",\"understood\",\"underwear\",\"undesirable\",\"undress\",\"unequal\",\"unequaled\",\"uneven\",\"unfasten\",\"unhealthy\",\"uninterested\",\"unique\",\"unit\",\"unite\",\"unkempt\",\"unknown\",\"unlock\",\"unnatural\",\"unpack\",\"unruly\",\"unsightly\",\"unsuitable\",\"untidy\",\"unused\",\"unusual\",\"unwieldy\",\"unwritten\",\"upbeat\",\"uppity\",\"upset\",\"uptight\",\"use\",\"used\",\"useful\",\"useless\",\"utopian\",\"utter\",\"uttermost\",\"vacation\",\"vacuous\",\"vagabond\",\"vague\",\"valuable\",\"value\",\"van\",\"vanish\",\"various\",\"vase\",\"vast\",\"vegetable\",\"veil\",\"vein\",\"vengeful\",\"venomous\",\"verdant\",\"verse\",\"versed\",\"vessel\",\"vest\",\"victorious\",\"view\",\"vigorous\",\"violent\",\"violet\",\"visit\",\"visitor\",\"vivacious\",\"voice\",\"voiceless\",\"volatile\",\"volcano\",\"volleyball\",\"voracious\",\"voyage\",\"vulgar\",\"wacky\",\"waggish\",\"wail\",\"wait\",\"waiting\",\"wakeful\",\"walk\",\"wall\",\"wander\",\"wandering\",\"want\",\"wanting\",\"war\",\"warlike\",\"warm\",\"warn\",\"wary\",\"wash\",\"waste\",\"wasteful\",\"watch\",\"water\",\"watery\",\"wave\",\"waves\",\"wax\",\"way\",\"weak\",\"wealth\",\"wealthy\",\"weary\",\"weather\",\"week\",\"weigh\",\"weight\",\"welcome\",\"well-groomed\",\"well-made\",\"well-off\",\"well-to-do\",\"wet\",\"wheel\",\"whimsical\",\"whine\",\"whip\",\"whirl\",\"whisper\",\"whispering\",\"whistle\",\"white\",\"whole\",\"wholesale\",\"wicked\",\"wide\",\"wide-eyed\",\"wiggly\",\"wild\",\"wilderness\",\"willing\",\"wind\",\"window\",\"windy\",\"wine\",\"wing\",\"wink\",\"winter\",\"wipe\",\"wire\",\"wiry\",\"wise\",\"wish\",\"wistful\",\"witty\",\"wobble\",\"woebegone\",\"woman\",\"womanly\",\"women\",\"wonder\",\"wonderful\",\"wood\",\"wooden\",\"wool\",\"woozy\",\"word\",\"work\",\"workable\",\"worm\",\"worried\",\"worry\",\"worthless\",\"wound\",\"wrap\",\"wrathful\",\"wreck\",\"wren\",\"wrench\",\"wrestle\",\"wretched\",\"wriggle\",\"wrist\",\"writer\",\"writing\",\"wrong\",\"wry\",\"x-ray\",\"yak\",\"yam\",\"yard\",\"yarn\",\"yawn\",\"year\",\"yell\",\"yellow\",\"yielding\",\"yoke\",\"young\",\"youthful\",\"yummy\",\"zany\",\"zealous\",\"zebra\",\"zephyr\",\"zesty\",\"zinc\",\"zip\",\"zipper\",\"zippy\",\"zonked\",\"zoo\",\"zoom\"]"
   ]
  },
  {
   "cell_type": "code",
   "execution_count": 2,
   "metadata": {
    "pycharm": {
     "name": "#%%\n"
    }
   },
   "outputs": [
    {
     "data": {
      "text/plain": [
       "'aback'"
      ]
     },
     "execution_count": 2,
     "metadata": {},
     "output_type": "execute_result"
    }
   ],
   "source": [
    "words[0]"
   ]
  },
  {
   "cell_type": "markdown",
   "metadata": {
    "pycharm": {
     "name": "#%% md\n"
    }
   },
   "source": [
    "**Unser Plan:**\n",
    "- Zufälliges Wort wählen -> random-choice\n",
    "- Länge berechnen -> len\n",
    "- Unterstriche ausgeben\n",
    "- Eingabe eines Buchstabens\n",
    "- Buchstabe in Wort?\n",
    "    - falls Buchstabe in Wort ersetze Unterstrich durch Buchstabe\n",
    "    - falls nicht, nicht, man verliert ein Leben\n",
    "- Leben = 0?\n",
    "    - falls ja, Ende\n",
    "    - falls nein, weiter\n",
    "- Wort vollständig gefunden?\n",
    "    - falls ja, Ende/Gewonnen\n",
    "    - falls nein, weiter"
   ]
  },
  {
   "cell_type": "markdown",
   "source": [
    "Da wir zufällig Wörter wählen wollen, brauchen wir die `random`-Bibliothek"
   ],
   "metadata": {
    "collapsed": false,
    "pycharm": {
     "name": "#%% md\n"
    }
   }
  },
  {
   "cell_type": "code",
   "execution_count": 3,
   "outputs": [],
   "source": [
    "import random as rand"
   ],
   "metadata": {
    "collapsed": false,
    "pycharm": {
     "name": "#%%\n"
    }
   }
  },
  {
   "cell_type": "markdown",
   "source": [
    "Ein Wort wird mit Hilfe der `choice`-Methode der random-Bibliothek gewählt. Ist das Wort kein String (in unserer Liste könnte ja alles mögliche stecken) wird so lange ein neues Wort gewählt bis ein String gefunden wurde. Das gefundene Wort wird dann von der Methode zurückgegeben.\n",
    "*Verbesserungsvorschlag:* In unseren Wörtern könnten auch nicht erlaubte Zeichen wie Ä oder - oder ein Leerzeichen stecken. Auch wenn diese Zeichen enthalten sind, sollte ein neues Wort gewählt werden.\n",
    "*Verbesserungsvorschlag 2:* Man könnte dafür sorgen, dass alle Wörter ausschließlich Großbuchstaben (wort.upper()) oder ausschließlich Kleinbuchstaben (wort.lower()) enthalten."
   ],
   "metadata": {
    "collapsed": false,
    "pycharm": {
     "name": "#%% md\n"
    }
   }
  },
  {
   "cell_type": "code",
   "execution_count": 4,
   "metadata": {
    "pycharm": {
     "name": "#%%\n"
    }
   },
   "outputs": [],
   "source": [
    "def wortwahl():\n",
    "    wort = rand.choice(words)\n",
    "    while type(wort) != str:\n",
    "        wort = rand.choice(words)\n",
    "    return wort"
   ]
  },
  {
   "cell_type": "markdown",
   "source": [
    "Der Hinweis, also z.B. \"____\" oder \"_A_B\" wird in einer globalen Variable gespeichert.\n",
    "*Verbesserungsvorschlag:* Die Variable müsste nicht global bekannt sein, sondern könnte auch übergeben werden."
   ],
   "metadata": {
    "collapsed": false,
    "pycharm": {
     "name": "#%% md\n"
    }
   }
  },
  {
   "cell_type": "code",
   "execution_count": 5,
   "metadata": {
    "pycharm": {
     "name": "#%%\n"
    }
   },
   "outputs": [],
   "source": [
    "hinweis = []"
   ]
  },
  {
   "cell_type": "markdown",
   "source": [
    "Ein neuer Hinweis wird erstellt indem so viele \"_\" zu der Liste hinzugefügt werden, wie Zeichen im Wort sind.\n",
    "*Verbesserungsvorschlag:* Man könnte auch einfach `for i in wort` verwenden, dann spart man sich auch `wortlaenge`. Da wir i nicht verwenden, wäre es der *pythonic way* statt i einen _ zu verwenden, da man mit _ Variablen benennt, die man eigentlich nicht braucht."
   ],
   "metadata": {
    "collapsed": false,
    "pycharm": {
     "name": "#%% md\n"
    }
   }
  },
  {
   "cell_type": "code",
   "execution_count": 6,
   "metadata": {
    "pycharm": {
     "name": "#%%\n"
    }
   },
   "outputs": [],
   "source": [
    "def kreiere_hinweis(wort):\n",
    "    wortlaenge = len(wort)\n",
    "    for i in range(wortlaenge):\n",
    "        hinweis.append('_')"
   ]
  },
  {
   "cell_type": "markdown",
   "source": [
    "Um den Hinweis auszugeben wird jedes Zeichen aus der Liste mit einem nachgestellten Leerzeichen zu einem String zusammen gefügt und dieser dann ausgegeben."
   ],
   "metadata": {
    "collapsed": false,
    "pycharm": {
     "name": "#%% md\n"
    }
   }
  },
  {
   "cell_type": "code",
   "execution_count": 7,
   "metadata": {
    "pycharm": {
     "name": "#%%\n"
    }
   },
   "outputs": [],
   "source": [
    "def gebe_hinweis_aus():\n",
    "    s = ''\n",
    "    for c in hinweis:\n",
    "        s += c + ' '\n",
    "    print(s)"
   ]
  },
  {
   "cell_type": "markdown",
   "source": [
    "Um den Hinweis anzupassen wird der eingegebene Buchstabe im wort gesucht und wenn er gefunden wird, an der entsprechenden Stelle im Hinweis der Unterstrich durch den Buchstaben ausgetauscht. Es wird zurückgegeben, ob der Buchstabe gefunden wurde oder nicht.\n",
    "*Verbesserungsvorschlag:* Auch hier kann die for-Schleife an den *pythonic way* angepasst werden."
   ],
   "metadata": {
    "collapsed": false,
    "pycharm": {
     "name": "#%% md\n"
    }
   }
  },
  {
   "cell_type": "code",
   "execution_count": 8,
   "metadata": {
    "pycharm": {
     "name": "#%%\n"
    }
   },
   "outputs": [],
   "source": [
    "def passe_hinweis_an(wort, buchstabe):\n",
    "    gefunden = 0\n",
    "    for i in range(len(wort)):\n",
    "        if wort[i] == buchstabe:\n",
    "            hinweis[i] = buchstabe\n",
    "            gefunden += 1\n",
    "    return bool(gefunden)"
   ]
  },
  {
   "cell_type": "markdown",
   "source": [
    "Ein neuer Buchstabe wird über die `input` Funktion gelesen. Durch `eingabe[0]` wird sicher gestellt, dass nur genau ein Buchstabe zurückgegeben wird."
   ],
   "metadata": {
    "collapsed": false,
    "pycharm": {
     "name": "#%% md\n"
    }
   }
  },
  {
   "cell_type": "code",
   "execution_count": 9,
   "metadata": {
    "pycharm": {
     "name": "#%%\n"
    }
   },
   "outputs": [],
   "source": [
    "def gebe_buchstabe_ein():\n",
    "    eingabe = input()\n",
    "    return eingabe[0]"
   ]
  },
  {
   "cell_type": "markdown",
   "source": [
    "Falls noch ein Unterstrich im Hinweis vorhanden ist, gibt diese Funktion False zurück und sonst True."
   ],
   "metadata": {
    "collapsed": false,
    "pycharm": {
     "name": "#%% md\n"
    }
   }
  },
  {
   "cell_type": "code",
   "execution_count": 10,
   "metadata": {
    "pycharm": {
     "name": "#%%\n"
    }
   },
   "outputs": [],
   "source": [
    "def wort_gefunden():\n",
    "    if '_' in hinweis:\n",
    "        return False\n",
    "    else:\n",
    "        return True"
   ]
  },
  {
   "cell_type": "markdown",
   "source": [
    "Die hangman_spiel-Funktion kombiniert alle unsere oben definierten Elemente zu einem funktionierenden Gesamtpaket."
   ],
   "metadata": {
    "collapsed": false,
    "pycharm": {
     "name": "#%% md\n"
    }
   }
  },
  {
   "cell_type": "code",
   "execution_count": 16,
   "metadata": {
    "pycharm": {
     "name": "#%%\n"
    }
   },
   "outputs": [],
   "source": [
    "def hangman_spiel():\n",
    "    # Eine Begrüßung wird ausgegeben:\n",
    "    print('Hallo, ich bin der Hangmanbot, es geht los!')\n",
    "    # Ein neues Wort wird gewählt.\n",
    "    wort = wortwahl()\n",
    "    # Die Anzahl der Leben wird festgelegt.\n",
    "    leben = 11\n",
    "    # Der hinweis wird auf eine leere Liste zurückgesetzt (falls man schon zuvor gespielt hatte)\n",
    "    hinweis.clear()\n",
    "    # Die hinweis Liste wird neu mit _ befüllt\n",
    "    kreiere_hinweis(wort)\n",
    "    # While True heißt Endlosschleife (man muss break oder return verwenden).\n",
    "    while True:\n",
    "        # Zu Beginn jeder Runde wird mit Hilfe eines fstrings die Anzahl der verbleibenden Leben ausgegeben.\n",
    "        print(f'Du hast noch {leben} Leben.')\n",
    "        # Dann wird der Hinweis ausgegeben.\n",
    "        gebe_hinweis_aus()\n",
    "        # Es wird ein neuer Buchstabe eingelesen und der Hinweis entsprechend angepasst.\n",
    "        gefunden = passe_hinweis_an(wort, gebe_buchstabe_ein())\n",
    "        if gefunden:\n",
    "            # Falls der Buchstabe im Wort war, wird geprüft, ob das gesamte Wort schon gefunden wurde, falls ja wird eine entsprechende Nachricht ausgegeben und die Ausführung der Methode (und damit das Spiel) beendet.\n",
    "            if wort_gefunden():\n",
    "                print(f'Du hast es geschafft! Das Wort war {wort}')\n",
    "                return\n",
    "        else:\n",
    "            # Falls der Buchstabe nicht im Wort war werden die Leben um 1 reduziert.\n",
    "            leben -= 1\n",
    "            # Falls man keine Leben mehr übrig hat wird ein entsprechender Hinweis und das Wort ausgegeben. Dann wird per return die Ausführung der Methode (und damit das Spiel) beendet.\n",
    "            if leben <= 0:\n",
    "                print(f'Du hast verloren :( das Wort war {wort}')\n",
    "                return"
   ]
  },
  {
   "cell_type": "code",
   "execution_count": 19,
   "metadata": {
    "pycharm": {
     "name": "#%%\n"
    }
   },
   "outputs": [
    {
     "name": "stdout",
     "output_type": "stream",
     "text": [
      "Hallo, ich bin der Hangmanbot, es geht los!\n",
      "aback\n",
      "[]\n",
      "Du hast noch 11 Leben.\n",
      "_ _ _ _ _ \n",
      "a\n",
      "Du hast noch 11 Leben.\n",
      "a _ a _ _ \n",
      "b\n",
      "Du hast noch 11 Leben.\n",
      "a b a _ _ \n",
      "c\n",
      "Du hast noch 11 Leben.\n",
      "a b a c _ \n",
      "d\n",
      "Du hast noch 10 Leben.\n",
      "a b a c _ \n",
      "e\n",
      "Du hast noch 9 Leben.\n",
      "a b a c _ \n",
      "f\n",
      "Du hast noch 8 Leben.\n",
      "a b a c _ \n",
      "g\n",
      "Du hast noch 7 Leben.\n",
      "a b a c _ \n",
      "h\n",
      "Du hast noch 6 Leben.\n",
      "a b a c _ \n",
      "i\n",
      "Du hast noch 5 Leben.\n",
      "a b a c _ \n",
      "j\n",
      "Du hast noch 4 Leben.\n",
      "a b a c _ \n",
      "l\n",
      "Du hast noch 3 Leben.\n",
      "a b a c _ \n",
      "m\n",
      "Du hast noch 2 Leben.\n",
      "a b a c _ \n",
      "n\n",
      "Du hast noch 1 Leben.\n",
      "a b a c _ \n",
      "o\n",
      "Du hast verloren :( das Wort war aback\n"
     ]
    }
   ],
   "source": [
    "hangman_spiel()"
   ]
  }
 ],
 "metadata": {
  "kernelspec": {
   "display_name": "Python 3",
   "language": "python",
   "name": "python3"
  },
  "language_info": {
   "codemirror_mode": {
    "name": "ipython",
    "version": 3
   },
   "file_extension": ".py",
   "mimetype": "text/x-python",
   "name": "python",
   "nbconvert_exporter": "python",
   "pygments_lexer": "ipython3",
   "version": "3.8.5"
  }
 },
 "nbformat": 4,
 "nbformat_minor": 4
}